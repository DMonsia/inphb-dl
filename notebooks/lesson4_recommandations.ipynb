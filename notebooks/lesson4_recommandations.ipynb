{
 "cells": [
  {
   "cell_type": "code",
   "execution_count": null,
   "metadata": {},
   "outputs": [],
   "source": [
    "#hide\n",
    "!pip install -Uqq fastbook\n",
    "import fastbook\n",
    "fastbook.setup_book()"
   ]
  },
  {
   "cell_type": "code",
   "execution_count": null,
   "metadata": {},
   "outputs": [],
   "source": [
    "#hide\n",
    "from fastbook import *"
   ]
  },
  {
   "cell_type": "raw",
   "metadata": {},
   "source": [
    "[[chapter_collab]]"
   ]
  },
  {
   "cell_type": "markdown",
   "metadata": {},
   "source": [
    "# Analyse approfondie du filtrage collaboratif"
   ]
  },
  {
   "cell_type": "markdown",
   "metadata": {},
   "source": [
    "Un problème très courant à résoudre est lorsque vous avez un certain nombre d'utilisateurs et un certain nombre de produits, et que vous souhaitez recommander les produits les plus susceptibles d'être utiles pour quels utilisateurs. Il existe de nombreuses variantes de cela: par exemple, recommander des films (comme sur Netflix), déterminer ce qu'il faut mettre en évidence pour un utilisateur sur une page d'accueil, décider des histoires à afficher dans un flux de médias sociaux, etc. Il existe une solution générale à ce problème, appelée *filtrage collaboratif*, qui fonctionne comme ceci: regardez quels produits l'utilisateur actuel a utilisé ou aimé, trouvez d'autres utilisateurs qui ont utilisé ou aimé des produits similaires, puis recommandez d'autres produits que ceux-ci les utilisateurs ont utilisé ou aimé.\n",
    "\n",
    "Par exemple, sur Netflix, vous avez peut-être regardé de nombreux films de science-fiction et d'actions réalisés dans les années 1970. Netflix ne connaît peut-être pas ces propriétés particulières des films que vous avez regardés, mais il pourra voir que d'autres personnes qui ont regardé les mêmes films que vous avez regardés avaient également tendance à regarder d'autres films de science-fiction, pleins d'action et qui ont été réalisés dans les années 1970. En d'autres termes, pour utiliser cette approche, nous n'avons pas nécessairement besoin de savoir quoi que ce soit sur les films, sauf qui aime les regarder.\n",
    "\n",
    "Il existe en fait une classe plus générale de problèmes que cette approche peut résoudre, n'impliquant pas nécessairement les utilisateurs et les produits. En effet, pour le filtrage collaboratif, nous nous référons plus communément à des *articles* qu'à des *produits*. Les éléments peuvent être des liens sur lesquels les internautes cliquent, des diagnostics sélectionnés pour les patients, etc.\n",
    "\n",
    "L'idée fondamentale clé est celle des *facteurs latents*. Dans l'exemple Netflix, nous avons commencé par supposer que vous aimez les vieux films de science-fiction bourrés d'action. Mais vous n'avez jamais dit à Netflix que vous aimez ce genre de films. Et Netflix n'a jamais eu besoin d'ajouter des colonnes à son tableau de films indiquant quels films sont de ces types. Pourtant, il doit y avoir un concept sous-jacent de la science-fiction, de l'action et de l'âge du cinéma, et ces concepts doivent être pertinents pour au moins les décisions de regarder des films de certaines personnes."
   ]
  },
  {
   "cell_type": "markdown",
   "metadata": {},
   "source": [
    "Pour ce chapitre, nous allons travailler sur ce problème de recommandation de films. Nous allons commencer par obtenir des données adaptées à un modèle de filtrage collaboratif."
   ]
  },
  {
   "cell_type": "markdown",
   "metadata": {},
   "source": [
    "## Un premier regard sur les données"
   ]
  },
  {
   "cell_type": "markdown",
   "metadata": {},
   "source": [
    "Nous n'avons pas accès à l'ensemble de données de Netflix sur l'historique de visionnage de films, mais il existe un excellent ensemble de données que nous pouvons utiliser, appelé [MovieLens](https://grouplens.org/datasets/movielens/). Cet ensemble de données contient des dizaines de millions de classements de films (une combinaison d'un ID de film, d'un ID utilisateur et d'une note numérique), bien que nous n'utilisons qu'un sous-ensemble de 100 000 d'entre eux pour notre exemple. Si vous êtes intéressé, ce serait un excellent projet d'apprentissage d'essayer de reproduire cette approche sur l'ensemble de données de recommandations de 25 millions, que vous pouvez obtenir sur leur site Web.\n",
    "\n"
   ]
  },
  {
   "cell_type": "markdown",
   "metadata": {},
   "source": [
    "L'ensemble de données est disponible via la fonction fastai habituelle:"
   ]
  },
  {
   "cell_type": "code",
   "execution_count": 1,
   "metadata": {},
   "outputs": [
    {
     "name": "stderr",
     "output_type": "stream",
     "text": [
      "/home/ismael/Utils/miniconda2/envs/fastai2/lib/python3.8/site-packages/torch/cuda/__init__.py:52: UserWarning: CUDA initialization: Found no NVIDIA driver on your system. Please check that you have an NVIDIA GPU and installed a driver from http://www.nvidia.com/Download/index.aspx (Triggered internally at  /pytorch/c10/cuda/CUDAFunctions.cpp:100.)\n",
      "  return torch._C._cuda_getDeviceCount() > 0\n"
     ]
    }
   ],
   "source": [
    "from fastai.collab import *\n",
    "from fastai.tabular.all import *\n",
    "path = untar_data(URLs.ML_100k)"
   ]
  },
  {
   "cell_type": "code",
   "execution_count": 84,
   "metadata": {},
   "outputs": [
    {
     "name": "stdout",
     "output_type": "stream",
     "text": [
      "SUMMARY & USAGE LICENSE\r\n",
      "=============================================\r\n",
      "\r\n",
      "MovieLens data sets were collected by the GroupLens Research Project\r\n",
      "at the University of Minnesota.\r\n",
      " \r\n",
      "This data set consists of:\r\n",
      "\t* 100,000 ratings (1-5) from 943 users on 1682 movies. \r\n",
      "\t* Each user has rated at least 20 movies. \r\n",
      "        * Simple demographic info for the users (age, gender, occupation, zip)\r\n",
      "\r\n",
      "The data was collected through the MovieLens web site\r\n",
      "(movielens.umn.edu) during the seven-month period from September 19th, \r\n",
      "1997 through April 22nd, 1998. This data has been cleaned up - users\r\n",
      "who had less than 20 ratings or did not have complete demographic\r\n",
      "information were removed from this data set. Detailed descriptions of\r\n",
      "the data file can be found at the end of this file.\r\n",
      "\r\n",
      "Neither the University of Minnesota nor any of the researchers\r\n",
      "involved can guarantee the correctness of the data, its suitability\r\n",
      "for any particular purpose, or the validity of results based on the\r\n",
      "use of the data set.  The data set may be used for any research\r\n",
      "purposes under the following conditions:\r\n",
      "\r\n",
      "     * The user may not state or imply any endorsement from the\r\n",
      "       University of Minnesota or the GroupLens Research Group.\r\n",
      "\r\n",
      "     * The user must acknowledge the use of the data set in\r\n",
      "       publications resulting from the use of the data set\r\n",
      "       (see below for citation information).\r\n",
      "\r\n",
      "     * The user may not redistribute the data without separate\r\n",
      "       permission.\r\n",
      "\r\n",
      "     * The user may not use this information for any commercial or\r\n",
      "       revenue-bearing purposes without first obtaining permission\r\n",
      "       from a faculty member of the GroupLens Research Project at the\r\n",
      "       University of Minnesota.\r\n",
      "\r\n",
      "If you have any further questions or comments, please contact GroupLens\r\n",
      "<grouplens-info@cs.umn.edu>. \r\n",
      "\r\n",
      "CITATION\r\n",
      "==============================================\r\n",
      "\r\n",
      "To acknowledge use of the dataset in publications, please cite the \r\n",
      "following paper:\r\n",
      "\r\n",
      "F. Maxwell Harper and Joseph A. Konstan. 2015. The MovieLens Datasets:\r\n",
      "History and Context. ACM Transactions on Interactive Intelligent\r\n",
      "Systems (TiiS) 5, 4, Article 19 (December 2015), 19 pages.\r\n",
      "DOI=http://dx.doi.org/10.1145/2827872\r\n",
      "\r\n",
      "\r\n",
      "ACKNOWLEDGEMENTS\r\n",
      "==============================================\r\n",
      "\r\n",
      "Thanks to Al Borchers for cleaning up this data and writing the\r\n",
      "accompanying scripts.\r\n",
      "\r\n",
      "PUBLISHED WORK THAT HAS USED THIS DATASET\r\n",
      "==============================================\r\n",
      "\r\n",
      "Herlocker, J., Konstan, J., Borchers, A., Riedl, J.. An Algorithmic\r\n",
      "Framework for Performing Collaborative Filtering. Proceedings of the\r\n",
      "1999 Conference on Research and Development in Information\r\n",
      "Retrieval. Aug. 1999.\r\n",
      "\r\n",
      "FURTHER INFORMATION ABOUT THE GROUPLENS RESEARCH PROJECT\r\n",
      "==============================================\r\n",
      "\r\n",
      "The GroupLens Research Project is a research group in the Department\r\n",
      "of Computer Science and Engineering at the University of Minnesota.\r\n",
      "Members of the GroupLens Research Project are involved in many\r\n",
      "research projects related to the fields of information filtering,\r\n",
      "collaborative filtering, and recommender systems. The project is lead\r\n",
      "by professors John Riedl and Joseph Konstan. The project began to\r\n",
      "explore automated collaborative filtering in 1992, but is most well\r\n",
      "known for its world wide trial of an automated collaborative filtering\r\n",
      "system for Usenet news in 1996.  The technology developed in the\r\n",
      "Usenet trial formed the base for the formation of Net Perceptions,\r\n",
      "Inc., which was founded by members of GroupLens Research. Since then\r\n",
      "the project has expanded its scope to research overall information\r\n",
      "filtering solutions, integrating in content-based methods as well as\r\n",
      "improving current collaborative filtering technology.\r\n",
      "\r\n",
      "Further information on the GroupLens Research project, including\r\n",
      "research publications, can be found at the following web site:\r\n",
      "        \r\n",
      "        http://www.grouplens.org/\r\n",
      "\r\n",
      "GroupLens Research currently operates a movie recommender based on\r\n",
      "collaborative filtering:\r\n",
      "\r\n",
      "        http://www.movielens.org/\r\n",
      "\r\n",
      "DETAILED DESCRIPTIONS OF DATA FILES\r\n",
      "==============================================\r\n",
      "\r\n",
      "Here are brief descriptions of the data.\r\n",
      "\r\n",
      "ml-data.tar.gz   -- Compressed tar file.  To rebuild the u data files do this:\r\n",
      "                gunzip ml-data.tar.gz\r\n",
      "                tar xvf ml-data.tar\r\n",
      "                mku.sh\r\n",
      "\r\n",
      "u.data     -- The full u data set, 100000 ratings by 943 users on 1682 items.\r\n",
      "              Each user has rated at least 20 movies.  Users and items are\r\n",
      "              numbered consecutively from 1.  The data is randomly\r\n",
      "              ordered. This is a tab separated list of \r\n",
      "\t         user id | item id | rating | timestamp. \r\n",
      "              The time stamps are unix seconds since 1/1/1970 UTC   \r\n",
      "\r\n",
      "u.info     -- The number of users, items, and ratings in the u data set.\r\n",
      "\r\n",
      "u.item     -- Information about the items (movies); this is a tab separated\r\n",
      "              list of\r\n",
      "              movie id | movie title | release date | video release date |\r\n",
      "              IMDb URL | unknown | Action | Adventure | Animation |\r\n",
      "              Children's | Comedy | Crime | Documentary | Drama | Fantasy |\r\n",
      "              Film-Noir | Horror | Musical | Mystery | Romance | Sci-Fi |\r\n",
      "              Thriller | War | Western |\r\n",
      "              The last 19 fields are the genres, a 1 indicates the movie\r\n",
      "              is of that genre, a 0 indicates it is not; movies can be in\r\n",
      "              several genres at once.\r\n",
      "              The movie ids are the ones used in the u.data data set.\r\n",
      "\r\n",
      "u.genre    -- A list of the genres.\r\n",
      "\r\n",
      "u.user     -- Demographic information about the users; this is a tab\r\n",
      "              separated list of\r\n",
      "              user id | age | gender | occupation | zip code\r\n",
      "              The user ids are the ones used in the u.data data set.\r\n",
      "\r\n",
      "u.occupation -- A list of the occupations.\r\n",
      "\r\n",
      "u1.base    -- The data sets u1.base and u1.test through u5.base and u5.test\r\n",
      "u1.test       are 80%/20% splits of the u data into training and test data.\r\n",
      "u2.base       Each of u1, ..., u5 have disjoint test sets; this if for\r\n",
      "u2.test       5 fold cross validation (where you repeat your experiment\r\n",
      "u3.base       with each training and test set and average the results).\r\n",
      "u3.test       These data sets can be generated from u.data by mku.sh.\r\n",
      "u4.base\r\n",
      "u4.test\r\n",
      "u5.base\r\n",
      "u5.test\r\n",
      "\r\n",
      "ua.base    -- The data sets ua.base, ua.test, ub.base, and ub.test\r\n",
      "ua.test       split the u data into a training set and a test set with\r\n",
      "ub.base       exactly 10 ratings per user in the test set.  The sets\r\n",
      "ub.test       ua.test and ub.test are disjoint.  These data sets can\r\n",
      "              be generated from u.data by mku.sh.\r\n",
      "\r\n",
      "allbut.pl  -- The script that generates training and test sets where\r\n",
      "              all but n of a users ratings are in the training data.\r\n",
      "\r\n",
      "mku.sh     -- A shell script to generate all the u data sets from u.data.\r\n"
     ]
    }
   ],
   "source": [
    "! cat {str(path/'README')}"
   ]
  },
  {
   "cell_type": "markdown",
   "metadata": {},
   "source": [
    "Selon le *README*, la table principale se trouve dans le fichier *u.data*. Il est séparé par des tabulations et les colonnes sont respectivement utilisateur, film, classement et horodatage. Puisque ces noms ne sont pas encodés (voir ci-dessus: 0, ..., 3), nous devons les indiquer lors de la lecture du fichier avec Pandas. Voici un moyen d'ouvrir ce tableau et de jeter un œil:"
   ]
  },
  {
   "cell_type": "code",
   "execution_count": 3,
   "metadata": {},
   "outputs": [
    {
     "data": {
      "text/html": [
       "<div>\n",
       "<style scoped>\n",
       "    .dataframe tbody tr th:only-of-type {\n",
       "        vertical-align: middle;\n",
       "    }\n",
       "\n",
       "    .dataframe tbody tr th {\n",
       "        vertical-align: top;\n",
       "    }\n",
       "\n",
       "    .dataframe thead th {\n",
       "        text-align: right;\n",
       "    }\n",
       "</style>\n",
       "<table border=\"1\" class=\"dataframe\">\n",
       "  <thead>\n",
       "    <tr style=\"text-align: right;\">\n",
       "      <th></th>\n",
       "      <th>user</th>\n",
       "      <th>movie</th>\n",
       "      <th>rating</th>\n",
       "      <th>timestamp</th>\n",
       "    </tr>\n",
       "  </thead>\n",
       "  <tbody>\n",
       "    <tr>\n",
       "      <th>0</th>\n",
       "      <td>196</td>\n",
       "      <td>242</td>\n",
       "      <td>3</td>\n",
       "      <td>881250949</td>\n",
       "    </tr>\n",
       "    <tr>\n",
       "      <th>1</th>\n",
       "      <td>186</td>\n",
       "      <td>302</td>\n",
       "      <td>3</td>\n",
       "      <td>891717742</td>\n",
       "    </tr>\n",
       "    <tr>\n",
       "      <th>2</th>\n",
       "      <td>22</td>\n",
       "      <td>377</td>\n",
       "      <td>1</td>\n",
       "      <td>878887116</td>\n",
       "    </tr>\n",
       "    <tr>\n",
       "      <th>3</th>\n",
       "      <td>244</td>\n",
       "      <td>51</td>\n",
       "      <td>2</td>\n",
       "      <td>880606923</td>\n",
       "    </tr>\n",
       "    <tr>\n",
       "      <th>4</th>\n",
       "      <td>166</td>\n",
       "      <td>346</td>\n",
       "      <td>1</td>\n",
       "      <td>886397596</td>\n",
       "    </tr>\n",
       "  </tbody>\n",
       "</table>\n",
       "</div>"
      ],
      "text/plain": [
       "   user  movie  rating  timestamp\n",
       "0   196    242       3  881250949\n",
       "1   186    302       3  891717742\n",
       "2    22    377       1  878887116\n",
       "3   244     51       2  880606923\n",
       "4   166    346       1  886397596"
      ]
     },
     "execution_count": 3,
     "metadata": {},
     "output_type": "execute_result"
    }
   ],
   "source": [
    "ratings = pd.read_csv(path/'u.data', delimiter='\\t', header=None,\n",
    "                      names=['user','movie','rating','timestamp'])\n",
    "ratings.head()"
   ]
  },
  {
   "cell_type": "markdown",
   "metadata": {},
   "source": [
    "Bien que cela contienne toutes les informations dont nous avons besoin, ce n'est pas un moyen particulièrement utile pour les humains de consulter ces données. <<movie_xtab>> affiche les mêmes données croisées dans un tableau convivial."
   ]
  },
  {
   "cell_type": "markdown",
   "metadata": {},
   "source": [
    "<img alt=\"Crosstab of movies and users\" width=\"632\" caption=\"Crosstab of movies and users\" id=\"movie_xtab\" src=\"images/att_00040.png\">"
   ]
  },
  {
   "cell_type": "markdown",
   "metadata": {},
   "source": [
    "Pour cet exemple de tableau croisé, nous n'avons sélectionné que quelques-uns des films les plus populaires et des utilisateurs qui regardent le plus de films. Les cellules vides de ce tableau sont les éléments que nous aimerions que notre modèle apprenne à remplir. Ce sont les endroits où un utilisateur n'a pas encore revu le film, probablement parce qu'il ne l'a pas regardé. Pour chaque utilisateur, nous aimerions savoir lequel de ces films il serait le plus susceptible d'apprécier.\n",
    "\n",
    "Si nous savions pour chaque utilisateur dans quelle mesure il aimait chaque catégorie importante dans laquelle un film pourrait appartenir, comme le genre, l'âge, les réalisateurs et acteurs préférés, etc., et que nous connaissions les mêmes informations sur chaque film, alors un moyen simple remplir ce tableau reviendrait à multiplier ces informations pour chaque film et à utiliser une combinaison. Par exemple, en supposant que ces facteurs varient entre -1 et +1, avec des nombres positifs indiquant des correspondances plus fortes et des nombres négatifs plus faibles, et que les catégories sont la science-fiction, l'action et les vieux films, alors nous pourrions représenter le film *The Last Skywalker* comme:"
   ]
  },
  {
   "cell_type": "code",
   "execution_count": 4,
   "metadata": {},
   "outputs": [],
   "source": [
    "last_skywalker = np.array([0.98,0.9,-0.9])"
   ]
  },
  {
   "cell_type": "markdown",
   "metadata": {},
   "source": [
    "Ici, par exemple, nous notons *très science-fiction* 0,98, *très action* 0,9 et *très pas vieux* -0,9. Nous pourrions représenter un utilisateur qui aime les films d'action de science-fiction modernes comme:"
   ]
  },
  {
   "cell_type": "code",
   "execution_count": 5,
   "metadata": {},
   "outputs": [],
   "source": [
    "user1 = np.array([0.9,0.8,-0.6])"
   ]
  },
  {
   "cell_type": "markdown",
   "metadata": {},
   "source": [
    "et nous pouvons maintenant calculer la correspondance entre cette combinaison:"
   ]
  },
  {
   "cell_type": "code",
   "execution_count": 6,
   "metadata": {},
   "outputs": [
    {
     "data": {
      "text/plain": [
       "2.1420000000000003"
      ]
     },
     "execution_count": 6,
     "metadata": {},
     "output_type": "execute_result"
    }
   ],
   "source": [
    "(user1*last_skywalker).sum()"
   ]
  },
  {
   "cell_type": "markdown",
   "metadata": {},
   "source": [
    "Lorsque nous multiplions deux vecteurs ensemble et additionnons les résultats, cela s'appelle le *produit scalaire*. Il est beaucoup utilisé dans l'apprentissage automatique et constitue la base de la multiplication matricielle. Nous examinerons beaucoup plus la multiplication matricielle et les produits scalaires dans <<chapter_foundations>>."
   ]
  },
  {
   "cell_type": "markdown",
   "metadata": {},
   "source": [
    "> jargon: produit scalaire: opération mathématique consistant à multiplier les éléments de deux vecteurs ensemble, puis à additionner le résultat."
   ]
  },
  {
   "cell_type": "markdown",
   "metadata": {},
   "source": [
    "D'un autre côté, nous pourrions représenter le film *Casablanca* comme:"
   ]
  },
  {
   "cell_type": "code",
   "execution_count": 7,
   "metadata": {},
   "outputs": [],
   "source": [
    "casablanca = np.array([-0.99,-0.3,0.8])"
   ]
  },
  {
   "cell_type": "markdown",
   "metadata": {},
   "source": [
    "La correspondance entre cette combinaison est:"
   ]
  },
  {
   "cell_type": "code",
   "execution_count": 8,
   "metadata": {},
   "outputs": [
    {
     "data": {
      "text/plain": [
       "-1.611"
      ]
     },
     "execution_count": 8,
     "metadata": {},
     "output_type": "execute_result"
    }
   ],
   "source": [
    "(user1*casablanca).sum()"
   ]
  },
  {
   "cell_type": "markdown",
   "metadata": {},
   "source": [
    "Puisque nous ne savons pas quels sont réellement les facteurs latents et que nous ne savons pas comment les noter pour chaque utilisateur et chaque film, nous devons les apprendre."
   ]
  },
  {
   "cell_type": "markdown",
   "metadata": {},
   "source": [
    "## Apprendre les facteurs latents"
   ]
  },
  {
   "cell_type": "markdown",
   "metadata": {},
   "source": [
    "Il y a étonnamment peu de différence entre la spécification de la structure d'un modèle, comme nous l'avons fait dans la dernière section, et en apprendre une, puisque nous pouvons simplement utiliser notre approche générale de descente de gradient.\n",
    "\n",
    "L'étape 1 de cette approche consiste à initialiser aléatoirement certains paramètres. Ces paramètres seront un ensemble de facteurs latents pour chaque utilisateur et chaque film. Nous devrons décider du nombre à utiliser. Nous allons discuter de la façon de sélectionner cela sous peu, mais à des fins d'illustration, utilisons 5 pour le moment. Étant donné que chaque utilisateur aura un ensemble de ces facteurs et que chaque film aura un ensemble de ces facteurs, nous pouvons afficher ces valeurs initialisées au hasard juste à côté des utilisateurs et des films dans notre tableau croisé, et nous pouvons ensuite remplir les produits scalaires pour chaque de ces combinaisons au milieu. Par exemple, <<xtab_latent>> montre à quoi il ressemble dans Microsoft Excel, avec la formule de cellule en haut à gauche affichée à titre d'exemple."
   ]
  },
  {
   "cell_type": "markdown",
   "metadata": {},
   "source": [
    "<img alt=\"Latent factors with crosstab\" width=\"900\" caption=\"Latent factors with crosstab\" id=\"xtab_latent\" src=\"images/att_00041.png\">"
   ]
  },
  {
   "cell_type": "markdown",
   "metadata": {},
   "source": [
    "L'étape 2 de cette approche consiste à calculer nos prédictions. Comme nous l'avons vu, nous pouvons le faire en prenant simplement le produit scalaire de chaque film avec chaque utilisateur. Si, par exemple, le premier facteur d'utilisateur latent représente à quel point l'utilisateur aime les films d'action et le premier facteur de film latent représente si le film a beaucoup d'action ou non, le produit de ceux-ci sera particulièrement élevé si l'utilisateur aime l'action et le film contient beaucoup d'action ou l'utilisateur n'aime pas les films d'action et le film ne contient aucune action. D'un autre côté, si nous avons une discordance (un utilisateur aime les films d'action mais le film n'est pas un film d'action, ou l'utilisateur n'aime pas les films d'action et ça en est  un), le produit sera très bas.\n",
    "\n",
    "L'étape 3 consiste à calculer notre perte (loss). Nous pouvons utiliser n'importe quelle fonction de perte que nous souhaitons; choisissons l'erreur quadratique moyenne pour l'instant, car c'est une manière raisonnable de représenter l'exactitude d'une prédiction.\n",
    "\n",
    "C'est tout ce dont nous avons besoin. Avec cela en place, nous pouvons optimiser nos paramètres (c'est-à-dire les facteurs latents) en utilisant la descente de gradient stochastique, de manière à minimiser la perte. À chaque étape, l'optimiseur de descente de gradient stochastique calculera la correspondance entre chaque film et chaque utilisateur utilisant le produit scalaire, et le comparera à la note réelle que chaque utilisateur a donnée à chaque film. Il calculera ensuite la dérivée de cette valeur et incrémentera les poids en le multipliant par le taux d'apprentissage. Après avoir fait cela plusieurs fois, la perte ira de mieux en mieux et les recommandations s'amélioreront de plus en plus."
   ]
  },
  {
   "cell_type": "markdown",
   "metadata": {},
   "source": [
    "Pour utiliser la fonction habituelle `Learner.fit`, nous aurons besoin de mettre nos données dans un` DataLoaders`, alors concentrons-nous là-dessus maintenant."
   ]
  },
  {
   "cell_type": "markdown",
   "metadata": {},
   "source": [
    "## Créer les DataLoaders"
   ]
  },
  {
   "cell_type": "markdown",
   "metadata": {},
   "source": [
    "Lors de l'affichage des données, nous préférerions voir les titres de films plutôt que leurs identifiants. Le tableau `u.item` contient la correspondance des identifiants avec les titres:"
   ]
  },
  {
   "cell_type": "code",
   "execution_count": 9,
   "metadata": {},
   "outputs": [
    {
     "data": {
      "text/html": [
       "<div>\n",
       "<style scoped>\n",
       "    .dataframe tbody tr th:only-of-type {\n",
       "        vertical-align: middle;\n",
       "    }\n",
       "\n",
       "    .dataframe tbody tr th {\n",
       "        vertical-align: top;\n",
       "    }\n",
       "\n",
       "    .dataframe thead th {\n",
       "        text-align: right;\n",
       "    }\n",
       "</style>\n",
       "<table border=\"1\" class=\"dataframe\">\n",
       "  <thead>\n",
       "    <tr style=\"text-align: right;\">\n",
       "      <th></th>\n",
       "      <th>movie</th>\n",
       "      <th>title</th>\n",
       "    </tr>\n",
       "  </thead>\n",
       "  <tbody>\n",
       "    <tr>\n",
       "      <th>0</th>\n",
       "      <td>1</td>\n",
       "      <td>Toy Story (1995)</td>\n",
       "    </tr>\n",
       "    <tr>\n",
       "      <th>1</th>\n",
       "      <td>2</td>\n",
       "      <td>GoldenEye (1995)</td>\n",
       "    </tr>\n",
       "    <tr>\n",
       "      <th>2</th>\n",
       "      <td>3</td>\n",
       "      <td>Four Rooms (1995)</td>\n",
       "    </tr>\n",
       "    <tr>\n",
       "      <th>3</th>\n",
       "      <td>4</td>\n",
       "      <td>Get Shorty (1995)</td>\n",
       "    </tr>\n",
       "    <tr>\n",
       "      <th>4</th>\n",
       "      <td>5</td>\n",
       "      <td>Copycat (1995)</td>\n",
       "    </tr>\n",
       "  </tbody>\n",
       "</table>\n",
       "</div>"
      ],
      "text/plain": [
       "   movie              title\n",
       "0      1   Toy Story (1995)\n",
       "1      2   GoldenEye (1995)\n",
       "2      3  Four Rooms (1995)\n",
       "3      4  Get Shorty (1995)\n",
       "4      5     Copycat (1995)"
      ]
     },
     "execution_count": 9,
     "metadata": {},
     "output_type": "execute_result"
    }
   ],
   "source": [
    "movies = pd.read_csv(path/'u.item',  delimiter='|', encoding='latin-1',\n",
    "                     usecols=(0,1), names=('movie','title'), header=None)\n",
    "movies.head()"
   ]
  },
  {
   "cell_type": "markdown",
   "metadata": {},
   "source": [
    "Nous pouvons fusionner cela avec notre tableau `notes` pour obtenir les notes des utilisateurs par titre:"
   ]
  },
  {
   "cell_type": "code",
   "execution_count": 10,
   "metadata": {},
   "outputs": [
    {
     "data": {
      "text/html": [
       "<div>\n",
       "<style scoped>\n",
       "    .dataframe tbody tr th:only-of-type {\n",
       "        vertical-align: middle;\n",
       "    }\n",
       "\n",
       "    .dataframe tbody tr th {\n",
       "        vertical-align: top;\n",
       "    }\n",
       "\n",
       "    .dataframe thead th {\n",
       "        text-align: right;\n",
       "    }\n",
       "</style>\n",
       "<table border=\"1\" class=\"dataframe\">\n",
       "  <thead>\n",
       "    <tr style=\"text-align: right;\">\n",
       "      <th></th>\n",
       "      <th>user</th>\n",
       "      <th>movie</th>\n",
       "      <th>rating</th>\n",
       "      <th>timestamp</th>\n",
       "      <th>title</th>\n",
       "    </tr>\n",
       "  </thead>\n",
       "  <tbody>\n",
       "    <tr>\n",
       "      <th>0</th>\n",
       "      <td>196</td>\n",
       "      <td>242</td>\n",
       "      <td>3</td>\n",
       "      <td>881250949</td>\n",
       "      <td>Kolya (1996)</td>\n",
       "    </tr>\n",
       "    <tr>\n",
       "      <th>1</th>\n",
       "      <td>63</td>\n",
       "      <td>242</td>\n",
       "      <td>3</td>\n",
       "      <td>875747190</td>\n",
       "      <td>Kolya (1996)</td>\n",
       "    </tr>\n",
       "    <tr>\n",
       "      <th>2</th>\n",
       "      <td>226</td>\n",
       "      <td>242</td>\n",
       "      <td>5</td>\n",
       "      <td>883888671</td>\n",
       "      <td>Kolya (1996)</td>\n",
       "    </tr>\n",
       "    <tr>\n",
       "      <th>3</th>\n",
       "      <td>154</td>\n",
       "      <td>242</td>\n",
       "      <td>3</td>\n",
       "      <td>879138235</td>\n",
       "      <td>Kolya (1996)</td>\n",
       "    </tr>\n",
       "    <tr>\n",
       "      <th>4</th>\n",
       "      <td>306</td>\n",
       "      <td>242</td>\n",
       "      <td>5</td>\n",
       "      <td>876503793</td>\n",
       "      <td>Kolya (1996)</td>\n",
       "    </tr>\n",
       "  </tbody>\n",
       "</table>\n",
       "</div>"
      ],
      "text/plain": [
       "   user  movie  rating  timestamp         title\n",
       "0   196    242       3  881250949  Kolya (1996)\n",
       "1    63    242       3  875747190  Kolya (1996)\n",
       "2   226    242       5  883888671  Kolya (1996)\n",
       "3   154    242       3  879138235  Kolya (1996)\n",
       "4   306    242       5  876503793  Kolya (1996)"
      ]
     },
     "execution_count": 10,
     "metadata": {},
     "output_type": "execute_result"
    }
   ],
   "source": [
    "ratings = ratings.merge(movies)\n",
    "ratings.head()"
   ]
  },
  {
   "cell_type": "markdown",
   "metadata": {},
   "source": [
    "Nous pouvons ensuite construire un objet `DataLoaders` à partir de cette table. Par défaut, il prend la première colonne pour l'utilisateur, la deuxième colonne pour l'élément (ici nos films) et la troisième colonne pour les notes. Nous devons changer la valeur de `item_name` dans notre cas pour utiliser les titres au lieu des identifiants:"
   ]
  },
  {
   "cell_type": "code",
   "execution_count": 11,
   "metadata": {},
   "outputs": [
    {
     "data": {
      "text/html": [
       "<table border=\"1\" class=\"dataframe\">\n",
       "  <thead>\n",
       "    <tr style=\"text-align: right;\">\n",
       "      <th></th>\n",
       "      <th>user</th>\n",
       "      <th>title</th>\n",
       "      <th>rating</th>\n",
       "    </tr>\n",
       "  </thead>\n",
       "  <tbody>\n",
       "    <tr>\n",
       "      <th>0</th>\n",
       "      <td>204</td>\n",
       "      <td>As Good As It Gets (1997)</td>\n",
       "      <td>4</td>\n",
       "    </tr>\n",
       "    <tr>\n",
       "      <th>1</th>\n",
       "      <td>452</td>\n",
       "      <td>Princess Bride, The (1987)</td>\n",
       "      <td>4</td>\n",
       "    </tr>\n",
       "    <tr>\n",
       "      <th>2</th>\n",
       "      <td>919</td>\n",
       "      <td>Ghost and the Darkness, The (1996)</td>\n",
       "      <td>3</td>\n",
       "    </tr>\n",
       "    <tr>\n",
       "      <th>3</th>\n",
       "      <td>458</td>\n",
       "      <td>Right Stuff, The (1983)</td>\n",
       "      <td>4</td>\n",
       "    </tr>\n",
       "    <tr>\n",
       "      <th>4</th>\n",
       "      <td>299</td>\n",
       "      <td>Paris Is Burning (1990)</td>\n",
       "      <td>4</td>\n",
       "    </tr>\n",
       "    <tr>\n",
       "      <th>5</th>\n",
       "      <td>221</td>\n",
       "      <td>First Wives Club, The (1996)</td>\n",
       "      <td>2</td>\n",
       "    </tr>\n",
       "    <tr>\n",
       "      <th>6</th>\n",
       "      <td>663</td>\n",
       "      <td>She's the One (1996)</td>\n",
       "      <td>4</td>\n",
       "    </tr>\n",
       "    <tr>\n",
       "      <th>7</th>\n",
       "      <td>262</td>\n",
       "      <td>Parent Trap, The (1961)</td>\n",
       "      <td>2</td>\n",
       "    </tr>\n",
       "    <tr>\n",
       "      <th>8</th>\n",
       "      <td>450</td>\n",
       "      <td>Birds, The (1963)</td>\n",
       "      <td>4</td>\n",
       "    </tr>\n",
       "    <tr>\n",
       "      <th>9</th>\n",
       "      <td>90</td>\n",
       "      <td>Much Ado About Nothing (1993)</td>\n",
       "      <td>5</td>\n",
       "    </tr>\n",
       "  </tbody>\n",
       "</table>"
      ],
      "text/plain": [
       "<IPython.core.display.HTML object>"
      ]
     },
     "metadata": {},
     "output_type": "display_data"
    }
   ],
   "source": [
    "dls = CollabDataLoaders.from_df(ratings, item_name='title', bs=64)\n",
    "dls.show_batch()"
   ]
  },
  {
   "cell_type": "markdown",
   "metadata": {},
   "source": [
    "Pour représenter le filtrage collaboratif dans PyTorch, nous ne pouvons pas simplement utiliser la représentation du tableau croisé directement, surtout si nous voulons qu'elle s'intègre dans notre framework d'apprentissage profond. Nous pouvons représenter nos tables de facteurs latents de films et d'utilisateurs comme de simples matrices:"
   ]
  },
  {
   "cell_type": "code",
   "execution_count": 15,
   "metadata": {},
   "outputs": [
    {
     "data": {
      "text/plain": [
       "{'user': (#944) ['#na#',1,2,3,4,5,6,7,8,9...],\n",
       " 'title': (#1665) ['#na#',\"'Til There Was You (1997)\",'1-900 (1994)','101 Dalmatians (1996)','12 Angry Men (1957)','187 (1997)','2 Days in the Valley (1996)','20,000 Leagues Under the Sea (1954)','2001: A Space Odyssey (1968)','3 Ninjas: High Noon At Mega Mountain (1998)'...]}"
      ]
     },
     "execution_count": 15,
     "metadata": {},
     "output_type": "execute_result"
    }
   ],
   "source": [
    "{k:L(dls.classes[k]) for k in dls.classes}"
   ]
  },
  {
   "cell_type": "code",
   "execution_count": 16,
   "metadata": {},
   "outputs": [],
   "source": [
    "n_users  = len(dls.classes['user'])\n",
    "n_movies = len(dls.classes['title'])\n",
    "n_factors = 5\n",
    "\n",
    "user_factors = torch.randn(n_users, n_factors)\n",
    "movie_factors = torch.randn(n_movies, n_factors)"
   ]
  },
  {
   "cell_type": "markdown",
   "metadata": {},
   "source": [
    "Pour calculer le résultat pour un film particulier et une combinaison utilisateur, nous devons rechercher l'index du film dans notre matrice de facteurs latents de film et l'indice de l'utilisateur dans notre matrice de facteurs latents utilisateur; alors nous pouvons faire notre produit scalaire entre les deux vecteurs de facteurs latents. Mais  dans un index* n'est pas une opération que nos modèles d'apprentissage en profondeur savent faire. Ils savent comment faire des produits matriciels et des fonctions d'activation.\n",
    "\n",
    "Heureusement, il s'avère que nous pouvons représenter *rechercher dans un index* comme un produit matriciel. L'astuce consiste à remplacer nos indices par des vecteurs encodés one-hot. Voici un exemple de ce qui se passe si nous multiplions un vecteur par un vecteur encodé one-hot représentant l'indice 3:"
   ]
  },
  {
   "cell_type": "code",
   "execution_count": 18,
   "metadata": {},
   "outputs": [],
   "source": [
    "one_hot_3 = one_hot(3, n_users).float()"
   ]
  },
  {
   "cell_type": "code",
   "execution_count": 27,
   "metadata": {},
   "outputs": [
    {
     "data": {
      "text/plain": [
       "tensor([-1.7870, -1.1737, -0.1582,  0.7521, -0.4215])"
      ]
     },
     "execution_count": 27,
     "metadata": {},
     "output_type": "execute_result"
    }
   ],
   "source": [
    "user_factors.t() @ one_hot_3"
   ]
  },
  {
   "cell_type": "markdown",
   "metadata": {},
   "source": [
    "Il nous donne le même vecteur que celui d'indice 3 dans la matrice:"
   ]
  },
  {
   "cell_type": "code",
   "execution_count": 28,
   "metadata": {},
   "outputs": [
    {
     "data": {
      "text/plain": [
       "tensor([-1.7870, -1.1737, -0.1582,  0.7521, -0.4215])"
      ]
     },
     "execution_count": 28,
     "metadata": {},
     "output_type": "execute_result"
    }
   ],
   "source": [
    "user_factors[3]"
   ]
  },
  {
   "cell_type": "markdown",
   "metadata": {},
   "source": [
    "Si nous faisons cela pour quelques indices à la fois, nous aurons une matrice de vecteurs encodés one-hot, et cette opération sera une multiplication matricielle! Ce serait une manière parfaitement acceptable de construire des modèles en utilisant ce type d'architecture, sauf que cela utiliserait beaucoup plus de mémoire et de temps que nécessaire. Nous savons qu'il n'y a pas de véritable raison sous-jacente de stocker le vecteur encodé one-hot ou de rechercher à travers celui-ci pour trouver l'occurrence du numéro un - nous devrions simplement pouvoir indexer dans un tableau directement avec un entier. Par conséquent, la plupart des bibliothèques d'apprentissage profond, y compris PyTorch, incluent une couche spéciale qui fait exactement cela; il indexe dans un vecteur en utilisant un entier, mais fait calculer sa dérivée de telle manière qu'elle soit identique à ce qu'elle aurait été si elle avait fait une multiplication matricielle avec un vecteur  encodé one-hot . C'est ce qu'on appelle un  *embedding*."
   ]
  },
  {
   "cell_type": "markdown",
   "metadata": {},
   "source": [
    "> jargon: Embedding:Multiplication par une matrice encodée one-hot, qui utilise le  calcul rapide  implémentable en indexant simplement directement. C'est un mot assez sophistiqué pour un concept très simple. La chose par laquelle vous multipliez la matrice encodée one-hot par (ou, en utilisant le calcul rapide, indexez directement) est appelée la _ matrice_ d'embedding_."
   ]
  },
  {
   "cell_type": "markdown",
   "metadata": {},
   "source": [
    "En vision par ordinateur, nous avons un moyen très simple d'obtenir toutes les informations d'un pixel à travers ses valeurs RVB: chaque pixel d'une image colorée est représenté par trois nombres. Ces trois nombres nous donnent la rougeur, le vert et le bleu, ce qui est suffisant pour que notre modèle fonctionne par la suite.\n",
    "\n",
    "Pour le problème à résoudre, nous n'avons pas la même manière simple de caractériser un utilisateur ou un film. Il y a probablement des relations avec les genres: si un utilisateur donné aime la romance, il est susceptible de donner des scores plus élevés aux films d'amour. D'autres facteurs peuvent être de savoir si le film est plus axé sur l'action que sur le dialogue, ou la présence d'un acteur spécifique qu'un utilisateur pourrait particulièrement aimer.\n",
    "\n",
    "Comment déterminer les nombres pour les caractériser? La réponse est que nous ne le faisons pas. Nous laisserons notre modèle les * apprendre *. En analysant les relations existantes entre les utilisateurs et les films, notre modèle peut déterminer lui-même les fonctionnalités qui semblent importantes ou non.\n",
    "\n",
    "C'est ce que sont les embeddings. Nous attribuerons à chacun de nos utilisateurs et à chacun de nos films un vecteur aléatoire d'une certaine longueur (ici, `n_factors = 5`), et nous rendrons ces paramètres apprenables. Cela signifie qu'à chaque étape, lorsque nous calculons la perte(loss) en comparant nos prédictions à nos cibles, nous calculerons les gradients de la perte par rapport à ces vecteurs d'embedding et les mettrons à jour avec les règles de SGD (ou d'un autre optimiseur).\n",
    "\n",
    "Au début, ces chiffres ne veulent rien dire puisque nous les avons choisis au hasard, mais à la fin de l'apprentissage, ils le seront. En apprenant sur les données existantes sur les relations entre les utilisateurs et les films, sans avoir aucune autre information, nous verrons qu'ils bénéficient encore de certaines fonctionnalités importantes, et peuvent isoler les films grand succès du cinéma indépendant, les films d'action de la romance, etc.\n",
    "\n",
    "Nous sommes maintenant en mesure de créer tout notre modèle à partir de zéro."
   ]
  },
  {
   "cell_type": "markdown",
   "metadata": {},
   "source": [
    "## Collaborative Filtering from Scratch"
   ]
  },
  {
   "cell_type": "markdown",
   "metadata": {},
   "source": [
    "Avant de pouvoir écrire un modèle dans PyTorch, nous devons d'abord apprendre les bases de la programmation orientée objet et de Python. Si vous n'avez jamais fait de programmation orientée objet auparavant, nous vous donnerons une introduction rapide ici, mais nous vous recommandons de rechercher un didacticiel et de vous entraîner avant de passer à autre chose.\n",
    "\n",
    "L'idée clé de la programmation orientée objet est la *classe*. Nous avons utilisé des classes tout au long de ce livre, telles que `DataLoader`,` string` et `Learner`. Python nous facilite également la création de nouvelles classes. Voici un exemple de classe simple:"
   ]
  },
  {
   "cell_type": "code",
   "execution_count": 29,
   "metadata": {},
   "outputs": [],
   "source": [
    "class Example:\n",
    "    def __init__(self, a): self.a = a\n",
    "    def say(self,x): return f'Hello {self.a}, {x}.'"
   ]
  },
  {
   "cell_type": "markdown",
   "metadata": {},
   "source": [
    "L'élément le plus important de ceci est la méthode spéciale appelée «__init__» (prononcé *dunder init*). En Python, toute méthode entourée de doubles traits de soulignement comme celle-ci est considérée comme spéciale. Cela indique qu'un comportement supplémentaire est associé à ce nom de méthode. Dans le cas de `__init__`, c'est la méthode que Python appellera lorsque votre nouvel objet est créé. C'est donc ici que vous pouvez configurer tout état qui doit être initialisé lors de la création de l'objet. Tous les paramètres inclus lorsque l'utilisateur construit une instance de votre classe seront passés à la méthode `__init__` en tant que paramètres. Notez que le premier paramètre de toute méthode définie dans une classe est `self`, vous pouvez donc l'utiliser pour définir et obtenir tous les attributs dont vous aurez besoin:"
   ]
  },
  {
   "cell_type": "code",
   "execution_count": 31,
   "metadata": {},
   "outputs": [
    {
     "data": {
      "text/plain": [
       "'Hello Master 2 IDSI, nice to meet you.'"
      ]
     },
     "execution_count": 31,
     "metadata": {},
     "output_type": "execute_result"
    }
   ],
   "source": [
    "ex = Example('Master 2 IDSI')\n",
    "ex.say('nice to meet you')"
   ]
  },
  {
   "cell_type": "markdown",
   "metadata": {},
   "source": [
    "Notez également que la création d'un nouveau module PyTorch nécessite l'héritage de `Module`. *L'héritage* est un concept orienté objet important que nous ne discuterons pas en détail ici - en bref, cela signifie que nous pouvons ajouter un comportement supplémentaire à une classe existante. PyTorch fournit déjà une classe `Module`, qui fournit quelques bases de base sur lesquelles nous voulons construire. Nous ajoutons donc le nom de cette *superclasse* après le nom de la classe que nous définissons, comme illustré dans l'exemple suivant.\n",
    "\n",
    "La dernière chose que vous devez savoir pour créer un nouveau module PyTorch est que lorsque votre module est appelé, PyTorch appellera une méthode de votre classe appelée `forward`, et lui transmettra tous les paramètres inclus dans l'appel. Voici la classe définissant notre modèle de produit scalaire:"
   ]
  },
  {
   "cell_type": "code",
   "execution_count": 32,
   "metadata": {},
   "outputs": [],
   "source": [
    "class DotProduct(Module):\n",
    "    def __init__(self, n_users, n_movies, n_factors):\n",
    "        self.user_factors = Embedding(n_users, n_factors)\n",
    "        self.movie_factors = Embedding(n_movies, n_factors)\n",
    "        \n",
    "    def forward(self, x):\n",
    "        users = self.user_factors(x[:,0])\n",
    "        movies = self.movie_factors(x[:,1])\n",
    "        return (users * movies).sum(dim=1)"
   ]
  },
  {
   "cell_type": "markdown",
   "metadata": {},
   "source": [
    "Si vous n'avez jamais vu la programmation orientée objet auparavant, ne vous inquiétez pas, vous n'aurez pas besoin de l'utiliser beaucoup dans ce livre. Nous mentionnons simplement cette approche ici, car la plupart des didacticiels et de la documentation en ligne utiliseront la syntaxe orientée objet.\n",
    "\n",
    "Notez que l'entrée du modèle est un tenseur de forme `batch_size x 2`, où la première colonne (` x [:, 0] `) contient les ID utilisateur et la deuxième colonne (` x [:, 1] `) contient les identifiants des films. Comme expliqué précédemment, nous utilisons les couches *embedding* pour représenter nos matrices de facteurs latents utilisateur et film:"
   ]
  },
  {
   "cell_type": "code",
   "execution_count": 33,
   "metadata": {},
   "outputs": [
    {
     "data": {
      "text/plain": [
       "torch.Size([64, 2])"
      ]
     },
     "execution_count": 33,
     "metadata": {},
     "output_type": "execute_result"
    }
   ],
   "source": [
    "x,y = dls.one_batch()\n",
    "x.shape"
   ]
  },
  {
   "cell_type": "markdown",
   "metadata": {},
   "source": [
    "Maintenant que nous avons défini notre architecture et créé nos matrices de paramètres, nous devons créer un `Learner` pour optimiser notre modèle. Dans le passé, nous avons utilisé des fonctions spéciales, telles que `cnn_learner`, qui configuraient tout pour nous pour une application particulière. Puisque nous faisons les choses à partir de zéro ici, nous utiliserons la classe simple `Learner`:"
   ]
  },
  {
   "cell_type": "code",
   "execution_count": 34,
   "metadata": {},
   "outputs": [],
   "source": [
    "model = DotProduct(n_users, n_movies, 50)\n",
    "learn = Learner(dls, model, loss_func=MSELossFlat())"
   ]
  },
  {
   "cell_type": "markdown",
   "metadata": {},
   "source": [
    "We are now ready to fit our model:"
   ]
  },
  {
   "cell_type": "code",
   "execution_count": 35,
   "metadata": {},
   "outputs": [
    {
     "data": {
      "text/html": [
       "<table border=\"1\" class=\"dataframe\">\n",
       "  <thead>\n",
       "    <tr style=\"text-align: left;\">\n",
       "      <th>epoch</th>\n",
       "      <th>train_loss</th>\n",
       "      <th>valid_loss</th>\n",
       "      <th>time</th>\n",
       "    </tr>\n",
       "  </thead>\n",
       "  <tbody>\n",
       "    <tr>\n",
       "      <td>0</td>\n",
       "      <td>1.320218</td>\n",
       "      <td>1.266392</td>\n",
       "      <td>00:09</td>\n",
       "    </tr>\n",
       "    <tr>\n",
       "      <td>1</td>\n",
       "      <td>1.110836</td>\n",
       "      <td>1.106548</td>\n",
       "      <td>00:08</td>\n",
       "    </tr>\n",
       "    <tr>\n",
       "      <td>2</td>\n",
       "      <td>1.005757</td>\n",
       "      <td>0.992016</td>\n",
       "      <td>00:08</td>\n",
       "    </tr>\n",
       "    <tr>\n",
       "      <td>3</td>\n",
       "      <td>0.880079</td>\n",
       "      <td>0.897849</td>\n",
       "      <td>00:09</td>\n",
       "    </tr>\n",
       "    <tr>\n",
       "      <td>4</td>\n",
       "      <td>0.815877</td>\n",
       "      <td>0.881375</td>\n",
       "      <td>00:08</td>\n",
       "    </tr>\n",
       "  </tbody>\n",
       "</table>"
      ],
      "text/plain": [
       "<IPython.core.display.HTML object>"
      ]
     },
     "metadata": {},
     "output_type": "display_data"
    }
   ],
   "source": [
    "learn.fit_one_cycle(5, 5e-3)"
   ]
  },
  {
   "cell_type": "markdown",
   "metadata": {},
   "source": [
    "La première chose que nous pouvons faire pour améliorer un peu ce modèle est de forcer ces prédictions à être comprises entre 0 et 5. Pour cela, il suffit d'utiliser `sigmoid_range`, comme dans <<chapter_multicat>>. Une chose que nous avons découverte empiriquement est qu'il vaut mieux que la plage dépasse un peu plus de 5, donc nous utilisons `(0, 5.5)`:"
   ]
  },
  {
   "cell_type": "code",
   "execution_count": 36,
   "metadata": {},
   "outputs": [],
   "source": [
    "class DotProduct(Module):\n",
    "    def __init__(self, n_users, n_movies, n_factors, y_range=(0,5.5)):\n",
    "        self.user_factors = Embedding(n_users, n_factors)\n",
    "        self.movie_factors = Embedding(n_movies, n_factors)\n",
    "        self.y_range = y_range\n",
    "        \n",
    "    def forward(self, x):\n",
    "        users = self.user_factors(x[:,0])\n",
    "        movies = self.movie_factors(x[:,1])\n",
    "        return sigmoid_range((users * movies).sum(dim=1), *self.y_range)"
   ]
  },
  {
   "cell_type": "code",
   "execution_count": 37,
   "metadata": {},
   "outputs": [
    {
     "data": {
      "text/html": [
       "<table border=\"1\" class=\"dataframe\">\n",
       "  <thead>\n",
       "    <tr style=\"text-align: left;\">\n",
       "      <th>epoch</th>\n",
       "      <th>train_loss</th>\n",
       "      <th>valid_loss</th>\n",
       "      <th>time</th>\n",
       "    </tr>\n",
       "  </thead>\n",
       "  <tbody>\n",
       "    <tr>\n",
       "      <td>0</td>\n",
       "      <td>0.974028</td>\n",
       "      <td>0.992146</td>\n",
       "      <td>00:08</td>\n",
       "    </tr>\n",
       "    <tr>\n",
       "      <td>1</td>\n",
       "      <td>0.869072</td>\n",
       "      <td>0.905196</td>\n",
       "      <td>00:09</td>\n",
       "    </tr>\n",
       "    <tr>\n",
       "      <td>2</td>\n",
       "      <td>0.667100</td>\n",
       "      <td>0.869415</td>\n",
       "      <td>00:08</td>\n",
       "    </tr>\n",
       "    <tr>\n",
       "      <td>3</td>\n",
       "      <td>0.484590</td>\n",
       "      <td>0.878005</td>\n",
       "      <td>00:08</td>\n",
       "    </tr>\n",
       "    <tr>\n",
       "      <td>4</td>\n",
       "      <td>0.369894</td>\n",
       "      <td>0.881123</td>\n",
       "      <td>00:08</td>\n",
       "    </tr>\n",
       "  </tbody>\n",
       "</table>"
      ],
      "text/plain": [
       "<IPython.core.display.HTML object>"
      ]
     },
     "metadata": {},
     "output_type": "display_data"
    }
   ],
   "source": [
    "model = DotProduct(n_users, n_movies, 50)\n",
    "learn = Learner(dls, model, loss_func=MSELossFlat())\n",
    "learn.fit_one_cycle(5, 5e-3)"
   ]
  },
  {
   "cell_type": "markdown",
   "metadata": {},
   "source": [
    "C'est un début raisonnable, mais nous pouvons faire mieux. Une pièce manquante évidente est que certains utilisateurs sont simplement plus positifs ou négatifs dans leurs recommandations que d'autres, et certains films sont tout simplement meilleurs ou pires que d'autres. Mais dans notre représentation de produit scalaire, nous n'avons aucun moyen d'encoder l'une ou l'autre de ces choses. Si tout ce que vous pouvez dire à propos d'un film, par exemple, c'est qu'il est très science-fiction, très orienté vers l'action et pas très vieux, alors vous n'avez vraiment aucun moyen de dire si la plupart des gens l'aiment.\n",
    "\n",
    "C'est parce qu'à ce stade, nous n'avons que des poids; nous n'avons pas de préjugés. Si nous avons un seul numéro pour chaque utilisateur que nous pouvons ajouter à nos partitions, et idem pour chaque film, cela gérera très bien cette pièce manquante. Alors tout d'abord, ajustons notre architecture de modèle:"
   ]
  },
  {
   "cell_type": "code",
   "execution_count": 38,
   "metadata": {},
   "outputs": [],
   "source": [
    "class DotProductBias(Module):\n",
    "    def __init__(self, n_users, n_movies, n_factors, y_range=(0,5.5)):\n",
    "        self.user_factors = Embedding(n_users, n_factors)\n",
    "        self.user_bias = Embedding(n_users, 1)\n",
    "        self.movie_factors = Embedding(n_movies, n_factors)\n",
    "        self.movie_bias = Embedding(n_movies, 1)\n",
    "        self.y_range = y_range\n",
    "        \n",
    "    def forward(self, x):\n",
    "        users = self.user_factors(x[:,0])\n",
    "        movies = self.movie_factors(x[:,1])\n",
    "        res = (users * movies).sum(dim=1, keepdim=True)\n",
    "        res += self.user_bias(x[:,0]) + self.movie_bias(x[:,1])\n",
    "        return sigmoid_range(res, *self.y_range)"
   ]
  },
  {
   "cell_type": "markdown",
   "metadata": {},
   "source": [
    "Essayons d'entraîner et voyons comment cela se passe:"
   ]
  },
  {
   "cell_type": "code",
   "execution_count": 41,
   "metadata": {},
   "outputs": [
    {
     "data": {
      "text/html": [
       "<table border=\"1\" class=\"dataframe\">\n",
       "  <thead>\n",
       "    <tr style=\"text-align: left;\">\n",
       "      <th>epoch</th>\n",
       "      <th>train_loss</th>\n",
       "      <th>valid_loss</th>\n",
       "      <th>time</th>\n",
       "    </tr>\n",
       "  </thead>\n",
       "  <tbody>\n",
       "    <tr>\n",
       "      <td>0</td>\n",
       "      <td>1.202976</td>\n",
       "      <td>1.149156</td>\n",
       "      <td>00:10</td>\n",
       "    </tr>\n",
       "    <tr>\n",
       "      <td>1</td>\n",
       "      <td>0.878518</td>\n",
       "      <td>0.885033</td>\n",
       "      <td>00:10</td>\n",
       "    </tr>\n",
       "    <tr>\n",
       "      <td>2</td>\n",
       "      <td>0.795705</td>\n",
       "      <td>0.864474</td>\n",
       "      <td>00:10</td>\n",
       "    </tr>\n",
       "    <tr>\n",
       "      <td>3</td>\n",
       "      <td>0.679895</td>\n",
       "      <td>0.880979</td>\n",
       "      <td>00:09</td>\n",
       "    </tr>\n",
       "    <tr>\n",
       "      <td>4</td>\n",
       "      <td>0.487192</td>\n",
       "      <td>0.965166</td>\n",
       "      <td>00:10</td>\n",
       "    </tr>\n",
       "    <tr>\n",
       "      <td>5</td>\n",
       "      <td>0.393877</td>\n",
       "      <td>1.033011</td>\n",
       "      <td>00:10</td>\n",
       "    </tr>\n",
       "    <tr>\n",
       "      <td>6</td>\n",
       "      <td>0.307703</td>\n",
       "      <td>1.090549</td>\n",
       "      <td>00:10</td>\n",
       "    </tr>\n",
       "    <tr>\n",
       "      <td>7</td>\n",
       "      <td>0.249978</td>\n",
       "      <td>1.124963</td>\n",
       "      <td>00:10</td>\n",
       "    </tr>\n",
       "    <tr>\n",
       "      <td>8</td>\n",
       "      <td>0.198163</td>\n",
       "      <td>1.153665</td>\n",
       "      <td>00:10</td>\n",
       "    </tr>\n",
       "    <tr>\n",
       "      <td>9</td>\n",
       "      <td>0.163972</td>\n",
       "      <td>1.177363</td>\n",
       "      <td>00:10</td>\n",
       "    </tr>\n",
       "    <tr>\n",
       "      <td>10</td>\n",
       "      <td>0.124264</td>\n",
       "      <td>1.196594</td>\n",
       "      <td>00:10</td>\n",
       "    </tr>\n",
       "    <tr>\n",
       "      <td>11</td>\n",
       "      <td>0.103923</td>\n",
       "      <td>1.213271</td>\n",
       "      <td>00:09</td>\n",
       "    </tr>\n",
       "    <tr>\n",
       "      <td>12</td>\n",
       "      <td>0.078841</td>\n",
       "      <td>1.222756</td>\n",
       "      <td>00:09</td>\n",
       "    </tr>\n",
       "    <tr>\n",
       "      <td>13</td>\n",
       "      <td>0.065128</td>\n",
       "      <td>1.226789</td>\n",
       "      <td>00:09</td>\n",
       "    </tr>\n",
       "    <tr>\n",
       "      <td>14</td>\n",
       "      <td>0.058192</td>\n",
       "      <td>1.227502</td>\n",
       "      <td>00:09</td>\n",
       "    </tr>\n",
       "  </tbody>\n",
       "</table>"
      ],
      "text/plain": [
       "<IPython.core.display.HTML object>"
      ]
     },
     "metadata": {},
     "output_type": "display_data"
    }
   ],
   "source": [
    "model = DotProductBias(n_users, n_movies, 50)\n",
    "learn = Learner(dls, model, loss_func=MSELossFlat())\n",
    "learn.fit_one_cycle(15, 5e-3)"
   ]
  },
  {
   "cell_type": "code",
   "execution_count": 42,
   "metadata": {},
   "outputs": [
    {
     "data": {
      "image/png": "[encoded data removed]",
      "text/plain": [
       "<Figure size 432x288 with 1 Axes>"
      ]
     },
     "metadata": {
      "needs_background": "light"
     },
     "output_type": "display_data"
    }
   ],
   "source": [
    "learn.recorder.plot_loss()"
   ]
  },
  {
   "cell_type": "markdown",
   "metadata": {},
   "source": [
    "Au lieu d'être meilleur, cela finit par être pire (du moins à la fin de l'entraînement Pourquoi donc? Si nous examinons attentivement les deux formations, nous pouvons voir que la perte de validation a cessé de s'améliorer au milieu et a commencé à s'aggraver. Comme nous l'avons vu, c'est une indication claire de sur-apprentissage. Dans ce cas, il n'y a aucun moyen d'utiliser l'augmentation des données, nous devrons donc utiliser une autre technique de régularisation. Une approche qui peut être utile est la *décroissance du poids*."
   ]
  },
  {
   "cell_type": "markdown",
   "metadata": {},
   "source": [
    "### Décroissance de poids (paramètre)"
   ]
  },
  {
   "cell_type": "markdown",
   "metadata": {},
   "source": [
    "La décroissance de poids, ou *régularisation L2*, consiste à ajouter à votre fonction de perte (loss) la somme de tous les poids au carré. Pourquoi faire ça? Parce que lorsque nous calculons les gradients, cela leur ajoutera une contribution qui encouragera les poids à être aussi petits que possible.\n",
    "\n",
    "Pourquoi empêcherait-il le sur-apprentissage? L'idée est que plus les coefficients sont grands, plus les vallées seront plus pointues dans la fonction de perte. Si nous prenons l'exemple de base d'une parabole, `y = a * (x ** 2)`, plus `a` est grand, plus la parabole est *étroite* (<<paraboles>>)."
   ]
  },
  {
   "cell_type": "code",
   "execution_count": 43,
   "metadata": {
    "hide_input": true
   },
   "outputs": [
    {
     "data": {
      "image/png": "[encoded data removed]",
      "text/plain": [
       "<Figure size 576x432 with 1 Axes>"
      ]
     },
     "metadata": {
      "needs_background": "light"
     },
     "output_type": "display_data"
    }
   ],
   "source": [
    "#hide_input\n",
    "#id parabolas\n",
    "x = np.linspace(-2,2,100)\n",
    "a_s = [1,2,5,10,50] \n",
    "ys = [a * x**2 for a in a_s]\n",
    "_,ax = plt.subplots(figsize=(8,6))\n",
    "for a,y in zip(a_s,ys): ax.plot(x,y, label=f'a={a}')\n",
    "ax.set_ylim([0,5])\n",
    "ax.legend();"
   ]
  },
  {
   "cell_type": "markdown",
   "metadata": {},
   "source": [
    "Ainsi, laisser notre modèle apprendre des paramètres élevés pourrait l'amener à ajuster tous les points de données de l'ensemble d'apprentissage avec une fonction surcomplexe qui a des changements très brusques, ce qui entraînera un sur-apprentissage.\n",
    "\n",
    "Empêcher nos poids de trop grandir va entraver l'apprentissage du modèle, mais cela donnera un état où il se généralise mieux. Pour revenir brièvement à la théorie, la décroissance du poids (ou simplement `wd`) est un paramètre qui contrôle cette somme de carrés que nous ajoutons à notre perte/loss (en supposant que` paramètres` est un tenseur de tous les paramètres):\n",
    "\n",
    "``` python\n",
    "loss_with_wd = perte + wd * (paramètres**2) .sum ()\n",
    "```\n",
    "\n",
    "En pratique, cependant, il serait très inefficace (et peut-être numériquement instable) de calculer cette grosse somme et de l'ajouter à la perte. Si vous vous souvenez un peu de mathématiques au lycée, vous vous souviendrez peut-être que la dérivée de `p**2` par rapport à` p` est `2*p`, donc ajouter cette grosse somme à notre perte est exactement la même que faire:\n",
    "\n",
    "``` python\n",
    "parameters.grad + = wd * 2 * paramètres\n",
    "```\n",
    "\n",
    "En pratique, puisque `wd` est un paramètre que nous choisissons, nous pouvons simplement le rendre deux fois plus grand, donc nous n'avons même pas besoin du `*2` dans cette équation. Pour utiliser la décroissance du poids dans fastai, passez simplement `wd` dans votre appel à` fit` ou `fit_one_cycle`:"
   ]
  },
  {
   "cell_type": "code",
   "execution_count": 44,
   "metadata": {},
   "outputs": [
    {
     "data": {
      "text/html": [
       "<table border=\"1\" class=\"dataframe\">\n",
       "  <thead>\n",
       "    <tr style=\"text-align: left;\">\n",
       "      <th>epoch</th>\n",
       "      <th>train_loss</th>\n",
       "      <th>valid_loss</th>\n",
       "      <th>time</th>\n",
       "    </tr>\n",
       "  </thead>\n",
       "  <tbody>\n",
       "    <tr>\n",
       "      <td>0</td>\n",
       "      <td>1.228776</td>\n",
       "      <td>1.158979</td>\n",
       "      <td>00:10</td>\n",
       "    </tr>\n",
       "    <tr>\n",
       "      <td>1</td>\n",
       "      <td>0.917459</td>\n",
       "      <td>0.903548</td>\n",
       "      <td>00:10</td>\n",
       "    </tr>\n",
       "    <tr>\n",
       "      <td>2</td>\n",
       "      <td>0.857857</td>\n",
       "      <td>0.877434</td>\n",
       "      <td>00:10</td>\n",
       "    </tr>\n",
       "    <tr>\n",
       "      <td>3</td>\n",
       "      <td>0.795072</td>\n",
       "      <td>0.856038</td>\n",
       "      <td>00:10</td>\n",
       "    </tr>\n",
       "    <tr>\n",
       "      <td>4</td>\n",
       "      <td>0.681079</td>\n",
       "      <td>0.852080</td>\n",
       "      <td>00:10</td>\n",
       "    </tr>\n",
       "    <tr>\n",
       "      <td>5</td>\n",
       "      <td>0.615539</td>\n",
       "      <td>0.860884</td>\n",
       "      <td>00:10</td>\n",
       "    </tr>\n",
       "    <tr>\n",
       "      <td>6</td>\n",
       "      <td>0.555723</td>\n",
       "      <td>0.872750</td>\n",
       "      <td>00:09</td>\n",
       "    </tr>\n",
       "    <tr>\n",
       "      <td>7</td>\n",
       "      <td>0.483462</td>\n",
       "      <td>0.874578</td>\n",
       "      <td>00:09</td>\n",
       "    </tr>\n",
       "    <tr>\n",
       "      <td>8</td>\n",
       "      <td>0.431421</td>\n",
       "      <td>0.878247</td>\n",
       "      <td>00:09</td>\n",
       "    </tr>\n",
       "    <tr>\n",
       "      <td>9</td>\n",
       "      <td>0.370805</td>\n",
       "      <td>0.880826</td>\n",
       "      <td>00:09</td>\n",
       "    </tr>\n",
       "    <tr>\n",
       "      <td>10</td>\n",
       "      <td>0.325673</td>\n",
       "      <td>0.886799</td>\n",
       "      <td>00:09</td>\n",
       "    </tr>\n",
       "    <tr>\n",
       "      <td>11</td>\n",
       "      <td>0.265749</td>\n",
       "      <td>0.892328</td>\n",
       "      <td>00:09</td>\n",
       "    </tr>\n",
       "    <tr>\n",
       "      <td>12</td>\n",
       "      <td>0.232962</td>\n",
       "      <td>0.895379</td>\n",
       "      <td>00:09</td>\n",
       "    </tr>\n",
       "    <tr>\n",
       "      <td>13</td>\n",
       "      <td>0.223663</td>\n",
       "      <td>0.897016</td>\n",
       "      <td>00:09</td>\n",
       "    </tr>\n",
       "    <tr>\n",
       "      <td>14</td>\n",
       "      <td>0.198783</td>\n",
       "      <td>0.897125</td>\n",
       "      <td>00:10</td>\n",
       "    </tr>\n",
       "  </tbody>\n",
       "</table>"
      ],
      "text/plain": [
       "<IPython.core.display.HTML object>"
      ]
     },
     "metadata": {},
     "output_type": "display_data"
    }
   ],
   "source": [
    "model = DotProductBias(n_users, n_movies, 50)\n",
    "learn = Learner(dls, model, loss_func=MSELossFlat())\n",
    "learn.fit_one_cycle(15, 5e-3, wd=0.1)"
   ]
  },
  {
   "cell_type": "code",
   "execution_count": 45,
   "metadata": {},
   "outputs": [
    {
     "data": {
      "image/png": "[encoded data removed]",
      "text/plain": [
       "<Figure size 432x288 with 1 Axes>"
      ]
     },
     "metadata": {
      "needs_background": "light"
     },
     "output_type": "display_data"
    }
   ],
   "source": [
    "learn.recorder.plot_loss()"
   ]
  },
  {
   "cell_type": "markdown",
   "metadata": {},
   "source": [
    "Much better!"
   ]
  },
  {
   "cell_type": "markdown",
   "metadata": {},
   "source": [
    "### Création de notre propre module d'embedding"
   ]
  },
  {
   "cell_type": "markdown",
   "metadata": {},
   "source": [
    "Jusqu'à présent, nous avons utilisé «Embedding» sans réfléchir à son fonctionnement réel. Recréons `DotProductBias` *sans* utiliser cette classe. Nous aurons besoin d'une matrice de poids initialisée au hasard pour chacun des plongements. Nous devons cependant être prudents. Rappelez-vous de <<chapter_mnist_basics>> que les optimiseurs exigent qu'ils puissent obtenir tous les paramètres d'un module à partir de la méthode `parameters` du module. Cependant, cela ne se produit pas de manière entièrement automatique. Si nous ajoutons simplement un tenseur comme attribut à un `Module`, il ne sera pas inclus dans les `paramètres`:"
   ]
  },
  {
   "cell_type": "code",
   "execution_count": 46,
   "metadata": {},
   "outputs": [
    {
     "data": {
      "text/plain": [
       "(#0) []"
      ]
     },
     "execution_count": 46,
     "metadata": {},
     "output_type": "execute_result"
    }
   ],
   "source": [
    "class T(Module):\n",
    "    def __init__(self): self.a = torch.ones(3)\n",
    "\n",
    "L(T().parameters())"
   ]
  },
  {
   "cell_type": "markdown",
   "metadata": {},
   "source": [
    "Pour dire à `Module` que nous voulons traiter un tenseur comme un paramètre, nous devons l'envelopper dans la classe` nn.Parameter`. Cette classe n'ajoute en fait aucune fonctionnalité (autre que l'appel automatique `requires_grad_` pour nous). Il est uniquement utilisé comme \"marqueur\" pour montrer ce qu'il faut inclure dans les `paramètres`:"
   ]
  },
  {
   "cell_type": "code",
   "execution_count": 47,
   "metadata": {},
   "outputs": [
    {
     "data": {
      "text/plain": [
       "(#1) [Parameter containing:\n",
       "tensor([1., 1., 1.], requires_grad=True)]"
      ]
     },
     "execution_count": 47,
     "metadata": {},
     "output_type": "execute_result"
    }
   ],
   "source": [
    "class T(Module):\n",
    "    def __init__(self): self.a = nn.Parameter(torch.ones(3))\n",
    "\n",
    "L(T().parameters())"
   ]
  },
  {
   "cell_type": "markdown",
   "metadata": {},
   "source": [
    "Tous les modules PyTorch utilisent `nn.Parameter` pour tous les paramètres pouvant être entraînés, c'est pourquoi nous n'avons pas eu besoin d'utiliser explicitement ce wrapper jusqu'à présent:"
   ]
  },
  {
   "cell_type": "code",
   "execution_count": 48,
   "metadata": {},
   "outputs": [
    {
     "data": {
      "text/plain": [
       "(#1) [Parameter containing:\n",
       "tensor([[-0.7780],\n",
       "        [ 0.2816],\n",
       "        [ 0.7558]], requires_grad=True)]"
      ]
     },
     "execution_count": 48,
     "metadata": {},
     "output_type": "execute_result"
    }
   ],
   "source": [
    "class T(Module):\n",
    "    def __init__(self): self.a = nn.Linear(1, 3, bias=False)\n",
    "\n",
    "t = T()\n",
    "L(t.parameters())"
   ]
  },
  {
   "cell_type": "code",
   "execution_count": 49,
   "metadata": {},
   "outputs": [
    {
     "data": {
      "text/plain": [
       "torch.nn.parameter.Parameter"
      ]
     },
     "execution_count": 49,
     "metadata": {},
     "output_type": "execute_result"
    }
   ],
   "source": [
    "type(t.a.weight)"
   ]
  },
  {
   "cell_type": "markdown",
   "metadata": {},
   "source": [
    "On peut créer un tenseur comme paramètre, avec une initialisation aléatoire, comme ceci:"
   ]
  },
  {
   "cell_type": "code",
   "execution_count": 50,
   "metadata": {},
   "outputs": [],
   "source": [
    "def create_params(size):\n",
    "    return nn.Parameter(torch.zeros(*size).normal_(0, 0.01))"
   ]
  },
  {
   "cell_type": "markdown",
   "metadata": {},
   "source": [
    "Utilisons ceci pour créer à nouveau `DotProductBias`, mais sans` Embedding`:"
   ]
  },
  {
   "cell_type": "code",
   "execution_count": 51,
   "metadata": {},
   "outputs": [],
   "source": [
    "class DotProductBias(Module):\n",
    "    def __init__(self, n_users, n_movies, n_factors, y_range=(0,5.5)):\n",
    "        self.user_factors = create_params([n_users, n_factors])\n",
    "        self.user_bias = create_params([n_users])\n",
    "        self.movie_factors = create_params([n_movies, n_factors])\n",
    "        self.movie_bias = create_params([n_movies])\n",
    "        self.y_range = y_range\n",
    "        \n",
    "    def forward(self, x):\n",
    "        users = self.user_factors[x[:,0]]\n",
    "        movies = self.movie_factors[x[:,1]]\n",
    "        res = (users*movies).sum(dim=1)\n",
    "        res += self.user_bias[x[:,0]] + self.movie_bias[x[:,1]]\n",
    "        return sigmoid_range(res, *self.y_range)"
   ]
  },
  {
   "cell_type": "markdown",
   "metadata": {},
   "source": [
    "Ensuite, entraînons-le à nouveau pour vérifier que nous obtenons les mêmes résultats que ceux que nous avons vus dans la section précédente:"
   ]
  },
  {
   "cell_type": "code",
   "execution_count": 60,
   "metadata": {},
   "outputs": [
    {
     "data": {
      "text/html": [
       "<table border=\"1\" class=\"dataframe\">\n",
       "  <thead>\n",
       "    <tr style=\"text-align: left;\">\n",
       "      <th>epoch</th>\n",
       "      <th>train_loss</th>\n",
       "      <th>valid_loss</th>\n",
       "      <th>time</th>\n",
       "    </tr>\n",
       "  </thead>\n",
       "  <tbody>\n",
       "    <tr>\n",
       "      <td>0</td>\n",
       "      <td>1.265753</td>\n",
       "      <td>1.201305</td>\n",
       "      <td>00:09</td>\n",
       "    </tr>\n",
       "    <tr>\n",
       "      <td>1</td>\n",
       "      <td>0.936213</td>\n",
       "      <td>0.916116</td>\n",
       "      <td>00:09</td>\n",
       "    </tr>\n",
       "    <tr>\n",
       "      <td>2</td>\n",
       "      <td>0.913811</td>\n",
       "      <td>0.903356</td>\n",
       "      <td>00:09</td>\n",
       "    </tr>\n",
       "    <tr>\n",
       "      <td>3</td>\n",
       "      <td>0.863763</td>\n",
       "      <td>0.875614</td>\n",
       "      <td>00:09</td>\n",
       "    </tr>\n",
       "    <tr>\n",
       "      <td>4</td>\n",
       "      <td>0.834932</td>\n",
       "      <td>0.872731</td>\n",
       "      <td>00:09</td>\n",
       "    </tr>\n",
       "    <tr>\n",
       "      <td>5</td>\n",
       "      <td>0.785215</td>\n",
       "      <td>0.853562</td>\n",
       "      <td>00:09</td>\n",
       "    </tr>\n",
       "    <tr>\n",
       "      <td>6</td>\n",
       "      <td>0.776552</td>\n",
       "      <td>0.851363</td>\n",
       "      <td>00:09</td>\n",
       "    </tr>\n",
       "    <tr>\n",
       "      <td>7</td>\n",
       "      <td>0.733085</td>\n",
       "      <td>0.837795</td>\n",
       "      <td>00:09</td>\n",
       "    </tr>\n",
       "    <tr>\n",
       "      <td>8</td>\n",
       "      <td>0.669366</td>\n",
       "      <td>0.835438</td>\n",
       "      <td>00:08</td>\n",
       "    </tr>\n",
       "    <tr>\n",
       "      <td>9</td>\n",
       "      <td>0.654032</td>\n",
       "      <td>0.829835</td>\n",
       "      <td>00:08</td>\n",
       "    </tr>\n",
       "    <tr>\n",
       "      <td>10</td>\n",
       "      <td>0.603636</td>\n",
       "      <td>0.823914</td>\n",
       "      <td>00:09</td>\n",
       "    </tr>\n",
       "    <tr>\n",
       "      <td>11</td>\n",
       "      <td>0.533205</td>\n",
       "      <td>0.823699</td>\n",
       "      <td>00:09</td>\n",
       "    </tr>\n",
       "    <tr>\n",
       "      <td>12</td>\n",
       "      <td>0.500677</td>\n",
       "      <td>0.822577</td>\n",
       "      <td>00:09</td>\n",
       "    </tr>\n",
       "    <tr>\n",
       "      <td>13</td>\n",
       "      <td>0.482406</td>\n",
       "      <td>0.822470</td>\n",
       "      <td>00:09</td>\n",
       "    </tr>\n",
       "    <tr>\n",
       "      <td>14</td>\n",
       "      <td>0.458885</td>\n",
       "      <td>0.822432</td>\n",
       "      <td>00:08</td>\n",
       "    </tr>\n",
       "  </tbody>\n",
       "</table>"
      ],
      "text/plain": [
       "<IPython.core.display.HTML object>"
      ]
     },
     "metadata": {},
     "output_type": "display_data"
    }
   ],
   "source": [
    "model = DotProductBias(n_users, n_movies, 50)\n",
    "learn = Learner(dls, model, loss_func=MSELossFlat())\n",
    "learn.fit_one_cycle(15, 5e-3, wd=0.2)"
   ]
  },
  {
   "cell_type": "code",
   "execution_count": 61,
   "metadata": {},
   "outputs": [
    {
     "data": {
      "image/png": "[encoded data removed]",
      "text/plain": [
       "<Figure size 432x288 with 1 Axes>"
      ]
     },
     "metadata": {
      "needs_background": "light"
     },
     "output_type": "display_data"
    }
   ],
   "source": [
    "learn.recorder.plot_loss()"
   ]
  },
  {
   "cell_type": "markdown",
   "metadata": {},
   "source": [
    "Voyons maintenant ce que notre modèle a appris."
   ]
  },
  {
   "cell_type": "markdown",
   "metadata": {},
   "source": [
    "## Interprétation des embeddings et des biais"
   ]
  },
  {
   "cell_type": "markdown",
   "metadata": {},
   "source": [
    "Notre modèle est déjà utile, dans la mesure où il peut nous fournir des recommandations de films pour nos utilisateurs, mais il est également intéressant de voir quels paramètres il a découverts. Les biais sont les plus faciles à interpréter. Voici les films avec les valeurs les plus basses du vecteur de biais:"
   ]
  },
  {
   "cell_type": "code",
   "execution_count": 62,
   "metadata": {},
   "outputs": [
    {
     "data": {
      "text/plain": [
       "['Children of the Corn: The Gathering (1996)',\n",
       " 'Lawnmower Man 2: Beyond Cyberspace (1996)',\n",
       " 'Free Willy 3: The Rescue (1997)',\n",
       " 'Island of Dr. Moreau, The (1996)',\n",
       " 'Robocop 3 (1993)']"
      ]
     },
     "execution_count": 62,
     "metadata": {},
     "output_type": "execute_result"
    }
   ],
   "source": [
    "movie_bias = learn.model.movie_bias.squeeze()\n",
    "idxs = movie_bias.argsort()[:5]\n",
    "[dls.classes['title'][i] for i in idxs]"
   ]
  },
  {
   "cell_type": "markdown",
   "metadata": {},
   "source": [
    "Pensez à ce que cela signifie. Ce qu'il dit, c'est que pour chacun de ces films, même lorsqu'un utilisateur est très bien adapté à ses facteurs latents (qui, comme nous le verrons dans un instant, ont tendance à représenter des choses comme le niveau d'action, l'âge du film, etc. ), ils n'aiment toujours pas ça. Nous aurions pu simplement trier les films directement en fonction de leur note moyenne, mais regarder le biais appris nous dit quelque chose de beaucoup plus intéressant. Cela nous dit non seulement si un film est d'un genre que les gens ont tendance à ne pas aimer regarder, mais que les gens ont tendance à ne pas aimer le regarder même si c'est d'un genre qu'ils aimeraient autrement! De la même manière, voici les films les plus biaisés:"
   ]
  },
  {
   "cell_type": "code",
   "execution_count": 63,
   "metadata": {},
   "outputs": [
    {
     "data": {
      "text/plain": [
       "[\"Schindler's List (1993)\",\n",
       " 'Titanic (1997)',\n",
       " 'Star Wars (1977)',\n",
       " 'Silence of the Lambs, The (1991)',\n",
       " 'L.A. Confidential (1997)']"
      ]
     },
     "execution_count": 63,
     "metadata": {},
     "output_type": "execute_result"
    }
   ],
   "source": [
    "idxs = movie_bias.argsort(descending=True)[:5]\n",
    "[dls.classes['title'][i] for i in idxs]"
   ]
  },
  {
   "cell_type": "markdown",
   "metadata": {},
   "source": [
    "Ainsi, par exemple, même si vous n'aimez pas normalement les films policiers, vous pourriez apprécier *LA Confidential*!\n",
    "\n",
    "Il n'est pas si facile d'interpréter directement les matrices d'incorporation. Il y a trop de facteurs à considérer pour un être humain. Mais il existe une technique qui peut extraire les *directions* sous-jacentes les plus importantes dans une telle matrice, appelée *analyse en composantes principales* (ACP). Nous n'entrerons pas dans le détail dans ce livre, car il n'est pas particulièrement important pour vous de comprendre pour être un praticien de l'apprentissage profond, mais si vous êtes intéressé, nous vous suggérons de consulter le cours fast.ai [Computational Linear Algebra pour les codeurs](https://github.com/fastai/numerical-linear-algebra). <<img_pca_movie>> montre à quoi ressemblent nos films sur la base de deux des composantes les plus fortes de l'ACP."
   ]
  },
  {
   "cell_type": "code",
   "execution_count": 65,
   "metadata": {
    "hide_input": true
   },
   "outputs": [
    {
     "data": {
      "image/png": "[encoded data removed]",
      "text/plain": [
       "<Figure size 864x864 with 1 Axes>"
      ]
     },
     "metadata": {
      "needs_background": "light"
     },
     "output_type": "display_data"
    }
   ],
   "source": [
    "#hide_input\n",
    "#id img_pca_movie\n",
    "#caption Representation of movies based on two strongest PCA components\n",
    "#alt Representation of movies based on two strongest PCA components\n",
    "g = ratings.groupby('title')['rating'].count()\n",
    "top_movies = g.sort_values(ascending=False).index.values[:1000]\n",
    "top_idxs = tensor([learn.dls.classes['title'].o2i[m] for m in top_movies])\n",
    "movie_w = learn.model.movie_factors[top_idxs].cpu().detach()\n",
    "movie_pca = movie_w.pca(3)\n",
    "fac0,fac1,fac2 = movie_pca.t()\n",
    "idxs = list(range(50))\n",
    "X = fac0[idxs]\n",
    "Y = fac2[idxs]\n",
    "plt.figure(figsize=(12,12))\n",
    "plt.scatter(X, Y)\n",
    "for i, x, y in zip(top_movies[idxs], X, Y):\n",
    "    plt.text(x,y,i, color=np.random.rand(3)*0.7, fontsize=11)\n",
    "plt.show()"
   ]
  },
  {
   "cell_type": "markdown",
   "metadata": {},
   "source": [
    "Nous pouvons voir ici que le modèle semble avoir découvert un concept de films *classiques* contre *pop culture*, ou peut-être est-il *acclamé par la critique* qui est représenté ici."
   ]
  },
  {
   "cell_type": "markdown",
   "metadata": {},
   "source": [
    "> j: Peu importe le nombre de modèles que j'entraîne, je n'arrête jamais d'être ému et surpris par la façon dont ces groupes de nombres initialisés au hasard, entraînés avec une mécanique aussi simple, parviennent à découvrir par eux-mêmes des choses sur mes données. Cela ressemble presque à de la triche, que je peux créer du code qui fait des choses utiles sans jamais lui dire comment faire ces choses!"
   ]
  },
  {
   "cell_type": "markdown",
   "metadata": {},
   "source": [
    "Nous avons défini notre modèle à partir de zéro pour vous apprendre ce qu'il y a à l'intérieur, mais vous pouvez directement utiliser la bibliothèque fastai pour le construire. Nous verrons comment procéder ensuite."
   ]
  },
  {
   "cell_type": "markdown",
   "metadata": {},
   "source": [
    "### Utilisation de fastai.collab"
   ]
  },
  {
   "cell_type": "markdown",
   "metadata": {},
   "source": [
    "Nous pouvons créer et entraîner un modèle de filtrage collaboratif en utilisant la structure exacte montrée précédemment en utilisant `collab_learner` de fastai:"
   ]
  },
  {
   "cell_type": "code",
   "execution_count": 67,
   "metadata": {},
   "outputs": [],
   "source": [
    "learn = collab_learner(dls, n_factors=50, y_range=(0, 5.5))"
   ]
  },
  {
   "cell_type": "code",
   "execution_count": 68,
   "metadata": {},
   "outputs": [
    {
     "data": {
      "text/html": [
       "<table border=\"1\" class=\"dataframe\">\n",
       "  <thead>\n",
       "    <tr style=\"text-align: left;\">\n",
       "      <th>epoch</th>\n",
       "      <th>train_loss</th>\n",
       "      <th>valid_loss</th>\n",
       "      <th>time</th>\n",
       "    </tr>\n",
       "  </thead>\n",
       "  <tbody>\n",
       "    <tr>\n",
       "      <td>0</td>\n",
       "      <td>0.952402</td>\n",
       "      <td>0.955807</td>\n",
       "      <td>00:10</td>\n",
       "    </tr>\n",
       "    <tr>\n",
       "      <td>1</td>\n",
       "      <td>0.877484</td>\n",
       "      <td>0.889582</td>\n",
       "      <td>00:10</td>\n",
       "    </tr>\n",
       "    <tr>\n",
       "      <td>2</td>\n",
       "      <td>0.810135</td>\n",
       "      <td>0.855335</td>\n",
       "      <td>00:10</td>\n",
       "    </tr>\n",
       "    <tr>\n",
       "      <td>3</td>\n",
       "      <td>0.735582</td>\n",
       "      <td>0.823191</td>\n",
       "      <td>00:10</td>\n",
       "    </tr>\n",
       "    <tr>\n",
       "      <td>4</td>\n",
       "      <td>0.653066</td>\n",
       "      <td>0.819282</td>\n",
       "      <td>00:10</td>\n",
       "    </tr>\n",
       "  </tbody>\n",
       "</table>"
      ],
      "text/plain": [
       "<IPython.core.display.HTML object>"
      ]
     },
     "metadata": {},
     "output_type": "display_data"
    }
   ],
   "source": [
    "learn.fit_one_cycle(5, 5e-3, wd=0.2)"
   ]
  },
  {
   "cell_type": "code",
   "execution_count": 69,
   "metadata": {},
   "outputs": [
    {
     "data": {
      "image/png": "[encoded data removed]",
      "text/plain": [
       "<Figure size 432x288 with 1 Axes>"
      ]
     },
     "metadata": {
      "needs_background": "light"
     },
     "output_type": "display_data"
    }
   ],
   "source": [
    "learn.recorderrderrderrder.plot_loss()"
   ]
  },
  {
   "cell_type": "markdown",
   "metadata": {},
   "source": [
    "Les noms des couches peuvent être vus en affichant le modèle:"
   ]
  },
  {
   "cell_type": "code",
   "execution_count": null,
   "metadata": {},
   "outputs": [
    {
     "data": {
      "text/plain": [
       "EmbeddingDotBias(\n",
       "  (u_weight): Embedding(944, 50)\n",
       "  (i_weight): Embedding(1635, 50)\n",
       "  (u_bias): Embedding(944, 1)\n",
       "  (i_bias): Embedding(1635, 1)\n",
       ")"
      ]
     },
     "execution_count": null,
     "metadata": {},
     "output_type": "execute_result"
    }
   ],
   "source": [
    "learn.model"
   ]
  },
  {
   "cell_type": "markdown",
   "metadata": {},
   "source": [
    "We can use these to replicate any of the analyses we did in the previous section—for instance:"
   ]
  },
  {
   "cell_type": "code",
   "execution_count": null,
   "metadata": {},
   "outputs": [
    {
     "data": {
      "text/plain": [
       "['Titanic (1997)',\n",
       " \"Schindler's List (1993)\",\n",
       " 'Shawshank Redemption, The (1994)',\n",
       " 'L.A. Confidential (1997)',\n",
       " 'Silence of the Lambs, The (1991)']"
      ]
     },
     "execution_count": null,
     "metadata": {},
     "output_type": "execute_result"
    }
   ],
   "source": [
    "movie_bias = learn.model.i_bias.weight.squeeze()\n",
    "idxs = movie_bias.argsort(descending=True)[:5]\n",
    "[dls.classes['title'][i] for i in idxs]"
   ]
  },
  {
   "cell_type": "markdown",
   "metadata": {},
   "source": [
    "Une autre chose intéressante que nous pouvons faire avec ces embeddings apprises est de regarder _distance_."
   ]
  },
  {
   "cell_type": "markdown",
   "metadata": {},
   "source": [
    "### Distance d'embedding"
   ]
  },
  {
   "cell_type": "markdown",
   "metadata": {},
   "source": [
    "Sur une carte bidimensionnelle, nous pouvons calculer la distance entre deux coordonnées en utilisant la formule de Pythagore: $ \\ sqrt {x ^ {2} + y ^ {2}} $ (en supposant que *x* et *y* sont les distances entre les coordonnées sur chaque axe). Pour un  embedding de  dimensions 50, nous pouvons faire exactement la même chose, sauf que nous additionnons les carrés des 50 distances de coordonnées.\n",
    "\n",
    "S'il y avait deux films presque identiques, alors leurs vecteurs d'intégration devraient également être presque identiques, car les utilisateurs qui les aimeraient seraient presque exactement les mêmes. Il y a une idée plus générale ici: la similitude des films peut être définie par la similitude des utilisateurs qui aiment ces films. Et cela signifie directement que la distance entre les vecteurs d'embedding de deux films peut définir cette similitude. Nous pouvons l'utiliser pour trouver le film le plus similaire à *Silence of the Lambs*:"
   ]
  },
  {
   "cell_type": "code",
   "execution_count": 70,
   "metadata": {},
   "outputs": [
    {
     "data": {
      "text/plain": [
       "'To Catch a Thief (1955)'"
      ]
     },
     "execution_count": 70,
     "metadata": {},
     "output_type": "execute_result"
    }
   ],
   "source": [
    "movie_factors = learn.model.i_weight.weight\n",
    "idx = dls.classes['title'].o2i['Silence of the Lambs, The (1991)']\n",
    "distances = nn.CosineSimilarity(dim=1)(movie_factors, movie_factors[idx][None])\n",
    "idx = distances.argsort(descending=True)[1]\n",
    "dls.classes['title'][idx]"
   ]
  },
  {
   "cell_type": "markdown",
   "metadata": {},
   "source": [
    "Maintenant que nous avons formé avec succès un modèle, voyons comment gérer la situation où nous n'avons pas de données pour un utilisateur. Comment faire des recommandations aux nouveaux utilisateurs?"
   ]
  },
  {
   "cell_type": "markdown",
   "metadata": {},
   "source": [
    "## Amorcer un modèle de filtrage collaboratif"
   ]
  },
  {
   "cell_type": "markdown",
   "metadata": {},
   "source": [
    "Le plus grand défi de l'utilisation des modèles de filtrage collaboratif dans la pratique est le *problème du bootstrap*. La version la plus extrême de ce problème se produit lorsque vous n'avez pas d'utilisateurs, et donc pas d'historique à apprendre. Quels produits recommandez-vous à votre tout premier utilisateur?\n",
    "\n",
    "Mais même si vous êtes une entreprise bien établie avec une longue histoire de transactions d'utilisateurs, vous vous posez toujours la question: que faites-vous lorsqu'un nouvel utilisateur s'inscrit? Et en effet, que faites-vous lorsque vous ajoutez un nouveau produit à votre portefeuille? Il n'y a pas de solution magique à ce problème, et en réalité les solutions que nous suggérons ne sont que des variantes de *utilisez votre bon sens*. Vous pouvez attribuer aux nouveaux utilisateurs la moyenne de tous les vecteurs d'intégration de vos autres utilisateurs, mais cela pose le problème que cette combinaison particulière de facteurs latents peut ne pas être du tout courante (par exemple, la moyenne du facteur de science-fiction peut être élevé, et la moyenne du facteur d’action peut être faible, mais il n’est pas si courant de trouver des gens qui aiment la science-fiction sans action). Le mieux serait probablement de choisir un utilisateur particulier pour représenter le *goût moyen*.\n",
    "\n",
    "Mieux encore, utilisez un modèle tabulaire basé sur les métadonnées utilisateur pour construire votre vecteur d'intégration initial. Lorsqu'un utilisateur s'inscrit, réfléchissez aux questions que vous pourriez lui poser et qui pourraient vous aider à comprendre ses goûts. Vous pouvez ensuite créer un modèle dans lequel la variable dépendante est le vecteur d'intégration d'un utilisateur, et les variables indépendantes sont les résultats des questions que vous leur posez, ainsi que leurs métadonnées d'inscription. Nous verrons dans la section suivante comment créer ces types de modèles tabulaires. (Vous avez peut-être remarqué que lorsque vous vous inscrivez à des services tels que Pandora et Netflix, ils ont tendance à vous poser quelques questions sur les genres de films ou de musique que vous aimez; c'est ainsi qu'ils élaborent vos recommandations initiales de filtrage collaboratif.)"
   ]
  },
  {
   "cell_type": "markdown",
   "metadata": {},
   "source": [
    "Une chose à laquelle il faut faire attention est qu'un petit nombre d'utilisateurs extrêmement enthousiastes peuvent finir par définir efficacement les recommandations pour l'ensemble de votre base d'utilisateurs. C'est un problème très courant, par exemple, dans les systèmes de recommandation de films. Les gens qui regardent des anime ont tendance à en regarder beaucoup, à ne pas regarder grand-chose d'autre et à passer beaucoup de temps à mettre leurs notes sur des sites Web. En conséquence, l'anime a tendance à être fortement surreprésenté dans de nombreuses listes de *meilleurs films de tous les temps*. Dans ce cas particulier, il peut être assez évident que vous ayez un problème de biais de représentation, mais si le biais se produit dans les facteurs latents, cela peut ne pas être évident du tout.\n",
    "\n",
    "Un tel problème peut modifier l'ensemble de la composition de votre base d'utilisateurs et le comportement de votre système. Cela est particulièrement vrai en raison des boucles de rétroaction( feedback loops) positives. Si un petit nombre de vos utilisateurs ont tendance à définir l'orientation de votre système de recommandation, ils finiront naturellement par attirer plus de personnes comme eux dans votre système. Et cela amplifiera bien sûr le biais de représentation d'origine. Ce type de biais a une tendance naturelle à être amplifié de façon exponentielle. Vous avez peut-être vu des exemples de dirigeants d'entreprise s'étonnant de la façon dont leurs plateformes en ligne se sont rapidement détériorées de telle sorte qu'ils ont exprimé des valeurs en contradiction avec les valeurs des fondateurs. En présence de ces types de boucles de rétroaction, il est facile de voir comment une telle divergence peut se produire à la fois rapidement et de manière cachée jusqu'à ce qu'il soit trop tard.\n",
    "\n",
    "Dans un système auto-renforçant comme celui-ci, nous devrions probablement nous attendre à ce que ces types de boucles de rétroaction soient la norme, pas l'exception. Par conséquent, vous devez supposer que vous les verrez, planifierez pour cela et identifier dès le départ comment vous allez traiter ces problèmes. Essayez de réfléchir à toutes les façons dont les boucles de rétroaction peuvent être représentées dans votre système et à la façon dont vous pourriez être en mesure de les identifier dans vos données. En fin de compte, cela revient à nos conseils originaux sur la façon d'éviter un désastre lors du déploiement de tout type de système d'apprentissage automatique. Il s'agit de s'assurer qu'il y a des humains dans la boucle; qu'il y a une surveillance attentive et un déploiement progressif et réfléchi."
   ]
  },
  {
   "cell_type": "markdown",
   "metadata": {},
   "source": [
    "Notre modèle de produit scalaire fonctionne très bien et il est à la base de nombreux systèmes de recommandation réussis dans le monde réel. Cette approche du filtrage collaboratif est connue sous le nom de *factorisation matricielle probabiliste* (PMF). Une autre approche, qui fonctionne généralement de manière similaire avec les mêmes données, est l'apprentissage profond."
   ]
  },
  {
   "cell_type": "markdown",
   "metadata": {},
   "source": [
    "## Deep Learning pour le Filtrage Collaboratif"
   ]
  },
  {
   "cell_type": "markdown",
   "metadata": {},
   "source": [
    "Pour transformer notre architecture en un modèle d'apprentissage profond, la première étape consiste à prendre les résultats de la recherche d'embedding et à concaténer ces activations ensemble. Cela nous donne une matrice que nous pouvons ensuite passer à travers des couches linéaires et des non-linéarités de la manière habituelle.\n",
    "\n",
    "Puisque nous concaténerons les matrices d'embedding, plutôt que de prendre leur produit scalaire, les deux matrices d'embedding peuvent avoir des tailles différentes (c'est-à-dire des nombres différents de facteurs latents). fastai a une fonction `get_emb_sz` qui renvoie les tailles recommandées de matrices d'embedding pour vos données, basée sur une heuristique que fast.ai a trouvé qu'elle a tendance à bien fonctionner en pratique:"
   ]
  },
  {
   "cell_type": "code",
   "execution_count": 71,
   "metadata": {},
   "outputs": [
    {
     "data": {
      "text/plain": [
       "[(944, 74), (1665, 102)]"
      ]
     },
     "execution_count": 71,
     "metadata": {},
     "output_type": "execute_result"
    }
   ],
   "source": [
    "embs = get_emb_sz(dls)\n",
    "embs"
   ]
  },
  {
   "cell_type": "markdown",
   "metadata": {},
   "source": [
    "Implémentons cette classe:"
   ]
  },
  {
   "cell_type": "code",
   "execution_count": 74,
   "metadata": {},
   "outputs": [],
   "source": [
    "class CollabNN(Module):\n",
    "    def __init__(self, user_sz, item_sz, y_range=(0,5.5), n_act=100):\n",
    "        self.user_factors = Embedding(*user_sz)\n",
    "        self.item_factors = Embedding(*item_sz)\n",
    "        self.layers = nn.Sequential(\n",
    "            nn.Linear(user_sz[1]+item_sz[1], n_act),\n",
    "            nn.ReLU(),\n",
    "            nn.Linear(n_act, 1))\n",
    "        self.y_range = y_range\n",
    "        \n",
    "    def forward(self, x):\n",
    "        embs = self.user_factors(x[:,0]),self.item_factors(x[:,1])\n",
    "        x = self.layers(torch.cat(embs, dim=1))\n",
    "        return sigmoid_range(x, *self.y_range)"
   ]
  },
  {
   "cell_type": "markdown",
   "metadata": {},
   "source": [
    "Et utilisons-la pour créer un modèle:"
   ]
  },
  {
   "cell_type": "code",
   "execution_count": 75,
   "metadata": {},
   "outputs": [],
   "source": [
    "model = CollabNN(*embs)"
   ]
  },
  {
   "cell_type": "markdown",
   "metadata": {},
   "source": [
    "`CollabNN` crée nos couches ` Embedding` de la même manière que les classes précédentes de ce chapitre, sauf que nous utilisons maintenant les tailles `embs`. `self.layers` est identique au mini-réseau neuronal que nous avons créé dans <<chapter_mnist_basics>> pour MNIST. Ensuite, dans `forward`, nous appliquons les embeddings, concaténons les résultats et les transmettons à travers le réseau mini-neuronal. Enfin, nous appliquons `sigmoid_range` comme nous l'avons fait dans les modèles précédents.\n",
    "\n",
    "Voyons si ça s'entraîne:"
   ]
  },
  {
   "cell_type": "code",
   "execution_count": 76,
   "metadata": {},
   "outputs": [
    {
     "data": {
      "text/html": [
       "<table border=\"1\" class=\"dataframe\">\n",
       "  <thead>\n",
       "    <tr style=\"text-align: left;\">\n",
       "      <th>epoch</th>\n",
       "      <th>train_loss</th>\n",
       "      <th>valid_loss</th>\n",
       "      <th>time</th>\n",
       "    </tr>\n",
       "  </thead>\n",
       "  <tbody>\n",
       "    <tr>\n",
       "      <td>0</td>\n",
       "      <td>0.935593</td>\n",
       "      <td>0.948893</td>\n",
       "      <td>00:12</td>\n",
       "    </tr>\n",
       "    <tr>\n",
       "      <td>1</td>\n",
       "      <td>0.905827</td>\n",
       "      <td>0.906412</td>\n",
       "      <td>00:12</td>\n",
       "    </tr>\n",
       "    <tr>\n",
       "      <td>2</td>\n",
       "      <td>0.876506</td>\n",
       "      <td>0.880452</td>\n",
       "      <td>00:11</td>\n",
       "    </tr>\n",
       "    <tr>\n",
       "      <td>3</td>\n",
       "      <td>0.806066</td>\n",
       "      <td>0.870857</td>\n",
       "      <td>00:11</td>\n",
       "    </tr>\n",
       "    <tr>\n",
       "      <td>4</td>\n",
       "      <td>0.777238</td>\n",
       "      <td>0.874802</td>\n",
       "      <td>00:11</td>\n",
       "    </tr>\n",
       "  </tbody>\n",
       "</table>"
      ],
      "text/plain": [
       "<IPython.core.display.HTML object>"
      ]
     },
     "metadata": {},
     "output_type": "display_data"
    }
   ],
   "source": [
    "learn = Learner(dls, model, loss_func=MSELossFlat())\n",
    "learn.fit_one_cycle(5, 5e-3, wd=0.01)"
   ]
  },
  {
   "cell_type": "markdown",
   "metadata": {},
   "source": [
    "fastai fournit ce modèle dans `fastai.collab` si vous passez` use_nn = True` dans votre appel à `collab_learner` (y compris en appelant` get_emb_sz` pour vous), et il vous permet de créer facilement plus de couches. Par exemple, nous créons ici deux couches cachées, de taille 100 et 50, respectivement:"
   ]
  },
  {
   "cell_type": "code",
   "execution_count": null,
   "metadata": {},
   "outputs": [
    {
     "data": {
      "text/html": [
       "<table border=\"1\" class=\"dataframe\">\n",
       "  <thead>\n",
       "    <tr style=\"text-align: left;\">\n",
       "      <th>epoch</th>\n",
       "      <th>train_loss</th>\n",
       "      <th>valid_loss</th>\n",
       "      <th>time</th>\n",
       "    </tr>\n",
       "  </thead>\n",
       "  <tbody>\n",
       "    <tr>\n",
       "      <td>0</td>\n",
       "      <td>1.002747</td>\n",
       "      <td>0.972392</td>\n",
       "      <td>00:16</td>\n",
       "    </tr>\n",
       "    <tr>\n",
       "      <td>1</td>\n",
       "      <td>0.926903</td>\n",
       "      <td>0.922348</td>\n",
       "      <td>00:16</td>\n",
       "    </tr>\n",
       "    <tr>\n",
       "      <td>2</td>\n",
       "      <td>0.877160</td>\n",
       "      <td>0.893401</td>\n",
       "      <td>00:16</td>\n",
       "    </tr>\n",
       "    <tr>\n",
       "      <td>3</td>\n",
       "      <td>0.838334</td>\n",
       "      <td>0.865040</td>\n",
       "      <td>00:16</td>\n",
       "    </tr>\n",
       "    <tr>\n",
       "      <td>4</td>\n",
       "      <td>0.781666</td>\n",
       "      <td>0.864936</td>\n",
       "      <td>00:16</td>\n",
       "    </tr>\n",
       "  </tbody>\n",
       "</table>"
      ],
      "text/plain": [
       "<IPython.core.display.HTML object>"
      ]
     },
     "metadata": {},
     "output_type": "display_data"
    }
   ],
   "source": [
    "learn = collab_learner(dls, use_nn=True, y_range=(0, 5.5), layers=[100,50])\n",
    "learn.fit_one_cycle(5, 5e-3, wd=0.1)"
   ]
  },
  {
   "cell_type": "markdown",
   "metadata": {},
   "source": [
    "`learn.model` est un objet de type` EmbeddingNN`. Jetons un coup d'œil au code de fastai pour cette classe:"
   ]
  },
  {
   "cell_type": "code",
   "execution_count": 77,
   "metadata": {},
   "outputs": [],
   "source": [
    "@delegates(TabularModel)\n",
    "class EmbeddingNN(TabularModel):\n",
    "    def __init__(self, emb_szs, layers, **kwargs):\n",
    "        super().__init__(emb_szs, layers=layers, n_cont=0, out_sz=1, **kwargs)"
   ]
  },
  {
   "cell_type": "markdown",
   "metadata": {},
   "source": [
    "Wow, ce n'est pas beaucoup de code! Cette classe *hérite* de `TabularModel`, d'où elle tire toutes ses fonctionnalités. Dans `__init__`, il appelle la même méthode dans` TabularModel`, en passant `n_cont = 0` et` out_sz = 1`; à part cela, il ne transmet que les arguments qu'il a reçus."
   ]
  },
  {
   "cell_type": "markdown",
   "metadata": {},
   "source": [
    "### Sidebar: `kwargs` et `delegates`"
   ]
  },
  {
   "cell_type": "markdown",
   "metadata": {},
   "source": [
    "`EmbeddingNN` inclut `** kwargs` comme paramètre de `__init__`. En Python, `** kwargs` dans une liste de paramètres signifie «mettre tout argument de mot-clé supplémentaire dans un dict appelé `kwargs`. Et `** kwargs` une liste d'arguments signifie « insérer toutes les paires clé / valeur dans le dict de `kwargs` comme arguments nommés ici ». Cette approche est utilisée dans de nombreuses bibliothèques populaires, telles que ` matplotlib`, dans lesquelles la fonction principale `plot` a simplement la signature `plot (* args, ** kwargs) `. Le [` plot` documentation](https://matplotlib.org/api/pyplot_api.html#matplotlib.pyplot.plot) dit \"Les` kwargs` sont des propriétés `Line2D` \"puis liste ces propriétés.\n",
    "\n",
    "Nous utilisons `** kwargs` dans` EmbeddingNN` pour éviter d'avoir à écrire tous les arguments dans `TabularModel` une deuxième fois et les garder synchronisés. Cependant, cela rend notre API assez difficile à utiliser, car maintenant Jupyter Notebook ne sait pas quels paramètres sont disponibles. Par conséquent, des éléments tels que la complétion par tabulation des noms de paramètres et les listes contextuelles de signatures ne fonctionneront pas.\n",
    "\n",
    "fastai résout ce problème en fournissant un décorateur spécial `@ delegates`, qui change automatiquement la signature de la classe ou de la fonction (` EmbeddingNN` dans ce cas) pour insérer tous ses arguments de mots-clés dans la signature."
   ]
  },
  {
   "cell_type": "markdown",
   "metadata": {},
   "source": [
    "### End sidebar"
   ]
  },
  {
   "cell_type": "markdown",
   "metadata": {},
   "source": [
    "Bien que les résultats de `EmbeddingNN` soient un peu pires que l'approche du produit scalaire (qui montre le pouvoir de construire soigneusement une architecture pour un domaine), cela nous permet de faire quelque chose de très important: nous pouvons maintenant incorporer directement des informations d'autres utilisateurs et  de films , des informations sur la date et l'heure, ou toute autre information pouvant être pertinente pour la recommandation. C'est exactement ce que fait `TabularModel`. En fait, nous avons maintenant vu que `EmbeddingNN` est juste un` TabularModel`, avec `n_cont = 0` et` out_sz = 1`. Donc, nous ferions mieux de passer un peu de temps à apprendre sur `TabularModel`, et comment l'utiliser pour obtenir d'excellents résultats! Nous ferons cela dans le prochain chapitre."
   ]
  },
  {
   "cell_type": "markdown",
   "metadata": {},
   "source": [
    "## Conclusion"
   ]
  },
  {
   "cell_type": "markdown",
   "metadata": {},
   "source": [
    "Pour notre première application de vision non par ordinateur, nous avons examiné les systèmes de recommandation et vu comment la descente de gradient peut apprendre des facteurs intrinsèques ou des biais sur des éléments à partir d'un historique des évaluations. Ceux-ci peuvent alors nous donner des informations sur les données.\n",
    "\n",
    "Nous avons également construit notre premier modèle dans PyTorch. Nous en ferons beaucoup plus dans la prochaine section du livre, mais d'abord, terminons notre plongée dans les autres applications générales de l'apprentissage en profondeur, en continuant avec les données tabulaires."
   ]
  },
  {
   "cell_type": "markdown",
   "metadata": {},
   "source": [
    "## Questionnaire"
   ]
  },
  {
   "cell_type": "markdown",
   "metadata": {},
   "source": [
    "1. Quel problème le filtrage collaboratif résout-il?\n",
    "1. Comment le résout-il?\n",
    "1. Pourquoi un modèle prédictif de filtrage collaboratif pourrait-il ne pas être un système de recommandation très utile?\n",
    "1. À quoi ressemble une représentation croisée des données de filtrage collaboratif?\n",
    "1. Écrivez le code pour créer une représentation croisée des données MovieLens (vous devrez peut-être effectuer une recherche sur le Web!).\n",
    "1. Qu'est-ce qu'un facteur latent? Pourquoi est-ce «latent»?\n",
    "1. Qu'est-ce qu'un produit scalaire? Calculez manuellement un produit scalaire en utilisant du Python pur avec des listes.\n",
    "1. Que fait `pandas.DataFrame.merge`?\n",
    "1. Qu'est-ce qu'une matrice d'intégration?\n",
    "1. Quelle est la relation entre une Embedding et une matrice de vecteurs à un codage one-hot?\n",
    "1. Pourquoi avons-nous besoin de «Embedding» si nous pouvons utiliser des vecteurs encodés one-hot pour la même chose?\n",
    "1. Que contient un Embedding avant de commencer l'entraînement (en supposant que nous n'utilisons pas un modèle pré-entraîné)?\n",
    "1. Créez une classe (sans jeter un œil, si possible!) Et utilisez-la.\n",
    "1. Que renvoie `x [:, 0]`?\n",
    "1. Réécrivez la classe «DotProduct» (sans jeter un œil, si possible!) Et entraînez un modèle avec.\n",
    "1. Quelle est la bonne fonction de perte (loss) à utiliser pour MovieLens? Pourquoi?\n",
    "1. Que se passerait-il si nous utilisions la perte d'entropie croisée avec MovieLens? Comment devrions-nous changer le modèle?\n",
    "1. À quoi sert le biais dans un modèle de produit scalaire?\n",
    "1. Quel est un autre nom pour la perte de poids?\n",
    "1. Écris l'équation de la décroissance du poids (sans jeter un œil!).\n",
    "1. Écris l'équation du gradient de décroissance du poids. Pourquoi cela aide-t-il à réduire le poids?\n",
    "1. Pourquoi la réduction des poids conduit-elle à une meilleure généralisation?\n",
    "1. Que fait «argsort» dans PyTorch?\n",
    "1. Le tri des biais de films donne-t-il le même résultat que la moyenne des classements globaux des films par film? Pourquoi/pourquoi pas?\n",
    "1. Comment affichez-vous les noms et les détails des couches dans un modèle?\n",
    "1. Quel est le «problème du bootstrap» dans le filtrage collaboratif?\n",
    "1. Comment pouvez-vous gérer le problème du bootstrap pour les nouveaux utilisateurs? Pour de nouveaux films?\n",
    "1. Comment les boucles de rétroaction peuvent-elles avoir un impact sur les systèmes de filtrage collaboratifs?\n",
    "1. Lors de l'utilisation d'un réseau neuronal dans le filtrage collaboratif, pourquoi pouvons-nous avoir différents nombres de facteurs pour les films et les utilisateurs?\n",
    "1. Pourquoi y a-t-il un «nn.Sequential» dans le modèle «CollabNN»?\n",
    "1. Quel type de modèle devrions-nous utiliser si nous voulons ajouter des métadonnées sur les utilisateurs et les éléments, ou des informations telles que la date et l'heure, à un modèle de filtrage collaboratif?"
   ]
  },
  {
   "cell_type": "markdown",
   "metadata": {},
   "source": [
    "### De plus amples recherches\n",
    "\n",
    "1. Jetez un œil à toutes les différences entre la version `Embedding` de` DotProductBias` et la version `create_params`, et essayez de comprendre pourquoi chacune de ces modifications est nécessaire. Si vous n'êtes pas sûr, essayez d'annuler chaque modification pour voir ce qui se passe. (NB: même le type de parenthèse utilisé dans `forward` a changé!)\n",
    "1. Trouvez trois autres domaines dans lesquels le filtrage collaboratif est utilisé et découvrez quels sont les avantages et les inconvénients de cette approche dans ces domaines.\n",
    "1. Complétez ce notebook à l'aide de l'ensemble de données MovieLens complet et comparez vos résultats aux benchmarks en ligne. Voyez si vous pouvez améliorer votre précision. Consultez le site Web du livre et le forum fast.ai pour trouver des idées. Notez qu'il y a plus de colonnes dans l'ensemble de données complet - voyez si vous pouvez également les utiliser (le chapitre suivant pourrait vous donner des idées).\n",
    "1. Créez un modèle pour MovieLens qui fonctionne avec une perte d'entropie croisée et comparez-le au modèle de ce chapitre."
   ]
  },
  {
   "cell_type": "code",
   "execution_count": null,
   "metadata": {},
   "outputs": [],
   "source": []
  }
 ],
 "metadata": {
  "jupytext": {
   "split_at_heading": true
  },
  "kernelspec": {
   "display_name": "Python 3",
   "language": "python",
   "name": "python3"
  },
  "language_info": {
   "codemirror_mode": {
    "name": "ipython",
    "version": 3
   },
   "file_extension": ".py",
   "mimetype": "text/x-python",
   "name": "python",
   "nbconvert_exporter": "python",
   "pygments_lexer": "ipython3",
   "version": "3.8.5"
  },
  "toc": {
   "base_numbering": 1,
   "nav_menu": {},
   "number_sections": false,
   "sideBar": true,
   "skip_h1_title": true,
   "title_cell": "Table of Contents",
   "title_sidebar": "Contents",
   "toc_cell": false,
   "toc_position": {},
   "toc_section_display": true,
   "toc_window_display": false
  }
 },
 "nbformat": 4,
 "nbformat_minor": 2
}
